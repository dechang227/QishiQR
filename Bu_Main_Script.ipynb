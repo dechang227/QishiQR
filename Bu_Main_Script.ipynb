{
 "cells": [
  {
   "cell_type": "code",
   "execution_count": 1,
   "metadata": {
    "collapsed": true
   },
   "outputs": [],
   "source": [
    "import os\n",
    "import sys\n",
    "sys.path.append(\"C:\\\\Users\\\\linda\\\\PycharmProjects\\\\QiShi\\\\QishiQR-master\\\\QishiQR-master\")\n",
    "from Utils.lm import *"
   ]
  },
  {
   "cell_type": "code",
   "execution_count": 3,
   "metadata": {},
   "outputs": [
    {
     "name": "stdout",
     "output_type": "stream",
     "text": [
      "0min\n",
      "============bu train============\n",
      "----------Running:1601----------\n",
      "----------Running:1602----------\n",
      "----------Running:1603----------\n",
      "----------Running:1604----------\n",
      "----------Running:1605----------\n",
      "----------Running:1606----------\n",
      "----------Running:1607----------\n",
      "----------Running:1608----------\n",
      "----------Running:1609----------\n",
      "----------Running:1610----------\n",
      "----------Running:1611----------\n",
      "----------Running:1612----------\n",
      "----------Running:1701----------\n",
      "----------Running:1702----------\n",
      "----------Running:1703----------\n",
      "----------Running:1704----------\n",
      "----------Running:1705----------\n",
      "----------Running:1706----------\n",
      "----------Running:1709----------\n",
      "----------Running:1712----------\n",
      "----------Running:1803----------\n",
      "----------Running:1806----------\n",
      "----------Running:1809----------\n",
      "----------Running:1812----------\n",
      "1min\n",
      "============bu train============\n",
      "----------Running:1601----------\n",
      "----------Running:1602----------\n",
      "----------Running:1603----------\n",
      "----------Running:1604----------\n",
      "----------Running:1605----------\n",
      "----------Running:1606----------\n",
      "----------Running:1607----------\n",
      "----------Running:1608----------\n",
      "----------Running:1609----------\n",
      "----------Running:1610----------\n",
      "----------Running:1611----------\n",
      "----------Running:1612----------\n",
      "----------Running:1701----------\n",
      "----------Running:1702----------\n",
      "----------Running:1703----------\n",
      "----------Running:1704----------\n",
      "----------Running:1705----------\n",
      "----------Running:1706----------\n",
      "----------Running:1709----------\n",
      "----------Running:1712----------\n",
      "----------Running:1803----------\n",
      "----------Running:1806----------\n",
      "----------Running:1809----------\n",
      "----------Running:1812----------\n",
      "2min\n",
      "============bu train============\n",
      "----------Running:1601----------\n",
      "----------Running:1602----------\n",
      "----------Running:1603----------\n",
      "----------Running:1604----------\n",
      "----------Running:1605----------\n",
      "----------Running:1606----------\n",
      "----------Running:1607----------\n",
      "----------Running:1608----------\n",
      "----------Running:1609----------\n",
      "----------Running:1610----------\n",
      "----------Running:1611----------\n",
      "----------Running:1612----------\n",
      "----------Running:1701----------\n",
      "----------Running:1702----------\n",
      "----------Running:1703----------\n",
      "----------Running:1704----------\n",
      "----------Running:1705----------\n",
      "----------Running:1706----------\n",
      "----------Running:1709----------\n",
      "----------Running:1712----------\n",
      "----------Running:1803----------\n",
      "----------Running:1806----------\n",
      "----------Running:1809----------\n",
      "----------Running:1812----------\n",
      "3min\n",
      "============bu train============\n",
      "----------Running:1601----------\n",
      "----------Running:1602----------\n",
      "----------Running:1603----------\n",
      "----------Running:1604----------\n",
      "----------Running:1605----------\n",
      "----------Running:1606----------\n",
      "----------Running:1607----------\n",
      "----------Running:1608----------\n",
      "----------Running:1609----------\n",
      "----------Running:1610----------\n",
      "----------Running:1611----------\n",
      "----------Running:1612----------\n",
      "----------Running:1701----------\n",
      "----------Running:1702----------\n",
      "----------Running:1703----------\n",
      "----------Running:1704----------\n",
      "----------Running:1705----------\n",
      "----------Running:1706----------\n",
      "----------Running:1709----------\n",
      "----------Running:1712----------\n",
      "----------Running:1803----------\n",
      "----------Running:1806----------\n",
      "----------Running:1809----------\n",
      "----------Running:1812----------\n",
      "4min\n",
      "============bu train============\n",
      "----------Running:1601----------\n",
      "----------Running:1602----------\n",
      "----------Running:1603----------\n",
      "----------Running:1604----------\n",
      "----------Running:1605----------\n",
      "----------Running:1606----------\n",
      "----------Running:1607----------\n",
      "----------Running:1608----------\n",
      "----------Running:1609----------\n",
      "----------Running:1610----------\n",
      "----------Running:1611----------\n",
      "----------Running:1612----------\n",
      "----------Running:1701----------\n",
      "----------Running:1702----------\n",
      "----------Running:1703----------\n",
      "----------Running:1704----------\n",
      "----------Running:1705----------\n",
      "----------Running:1706----------\n",
      "----------Running:1709----------\n",
      "----------Running:1712----------\n",
      "----------Running:1803----------\n",
      "----------Running:1806----------\n",
      "----------Running:1809----------\n",
      "----------Running:1812----------\n"
     ]
    }
   ],
   "source": [
    "bu_contracts = ['1601', '1602', '1603', '1604', '1605', '1606', '1607', '1608', '1609', '1610', '1611', '1612', '1701', '1702', '1703', '1704', '1705', '1706', '1709', '1712', '1803', '1806', '1809', '1812']\n",
    "bu_strategy = gen_strategy(commodity='bu', exp_list=bu_contracts, m=3, n=11, flg='train', freq=5, interval=1,\n",
    "                           data_root_dir='C:\\\\Users\\\\linda\\\\PycharmProjects\\\\QiShi\\\\QishiQR-master\\\\QishiQR-master\\\\Data', \n",
    "                           output='C:\\\\Users\\\\linda\\\\PycharmProjects\\\\QiShi\\\\QishiQR-master\\\\QishiQR-master\\\\Output')"
   ]
  },
  {
   "cell_type": "code",
   "execution_count": 5,
   "metadata": {
    "collapsed": true
   },
   "outputs": [],
   "source": [
    "bu_strategy.to_csv('C:\\\\Users\\\\linda\\\\PycharmProjects\\\\QiShi\\\\QishiQR-master\\\\QishiQR-master\\\\Strategy\\\\{}_5min_Stra.csv',index=False)"
   ]
  },
  {
   "cell_type": "code",
   "execution_count": 6,
   "metadata": {},
   "outputs": [
    {
     "name": "stderr",
     "output_type": "stream",
     "text": [
      "C:\\Users\\linda\\Anaconda3\\lib\\site-packages\\ipykernel_launcher.py:1: FutureWarning: 'prior' is both a column name and an index level.\n",
      "Defaulting to column but this will raise an ambiguity error in a future version\n",
      "  \"\"\"Entry point for launching an IPython kernel.\n"
     ]
    }
   ],
   "source": [
    "slm = bu_strategy[['prior', '0', '1', '2', 'total']].groupby(['prior']).sum().reset_index()"
   ]
  },
  {
   "cell_type": "code",
   "execution_count": 7,
   "metadata": {
    "collapsed": true
   },
   "outputs": [],
   "source": [
    "slm['signal'] = slm.loc[:, '0':'2'].idxmax(axis=1)"
   ]
  },
  {
   "cell_type": "markdown",
   "metadata": {},
   "source": [
    "# Major Contracts:\n",
    "# Bu1606: 20160104 - 20160406 \n",
    "# Bu1609: 20160407 - 20160802\n",
    "# Bu1612: 20160803 - 20161109\n",
    "# Bu1706: 20161110 - 20161230 "
   ]
  },
  {
   "cell_type": "markdown",
   "metadata": {},
   "source": [
    "# Read Input [ ] to [ ]"
   ]
  },
  {
   "cell_type": "markdown",
   "metadata": {},
   "source": [
    "# Fixed Cost_ MJ Bu1606"
   ]
  },
  {
   "cell_type": "code",
   "execution_count": 35,
   "metadata": {},
   "outputs": [
    {
     "name": "stderr",
     "output_type": "stream",
     "text": [
      "C:\\Users\\linda\\PycharmProjects\\QiShi\\QishiQR-master\\QishiQR-master\\Backtesting\\Vectorized\\backtest.py:18: SettingWithCopyWarning: \n",
      "A value is trying to be set on a copy of a slice from a DataFrame\n",
      "\n",
      "See the caveats in the documentation: http://pandas.pydata.org/pandas-docs/stable/indexing.html#indexing-view-versus-copy\n",
      "  self.result['return'][0] = 0.0\n",
      "C:\\Users\\linda\\PycharmProjects\\QiShi\\QishiQR-master\\QishiQR-master\\Backtesting\\Vectorized\\backtest.py:20: SettingWithCopyWarning: \n",
      "A value is trying to be set on a copy of a slice from a DataFrame\n",
      "\n",
      "See the caveats in the documentation: http://pandas.pydata.org/pandas-docs/stable/indexing.html#indexing-view-versus-copy\n",
      "  self.result['signal_bar'][0] = 0\n"
     ]
    },
    {
     "data": {
      "image/png": "[encoded data removed]",
      "text/plain": [
       "<matplotlib.figure.Figure at 0x226a221f668>"
      ]
     },
     "metadata": {},
     "output_type": "display_data"
    }
   ],
   "source": [
    "from Backtesting.Vectorized.models import MultiContractTest\n",
    "start = '20160104'\n",
    "end = '20160406'\n",
    "exps=['1606']\n",
    "tcas = ['fixed']*len(exps)\n",
    "DATA_DIR = 'C:\\\\Users\\\\linda\\\\PycharmProjects\\\\QiShi\\\\QishiQR-master\\\\QishiQR-master\\\\Data\\\\'\n",
    "OUTPUT_DIR = 'C:\\\\Users\\\\linda\\\\PycharmProjects\\\\QiShi\\\\QishiQR-master\\\\QishiQR-master\\\\Output\\\\'\n",
    "freq=5\n",
    "offset=0\n",
    "\n",
    "test3 = MultiContractTest(DATA_DIR, OUTPUT_DIR, slm)\n",
    "test3.build('bu', exps, 4, freq, offset, start, end, tcas)\n",
    "test3.run()\n",
    "\n",
    "import matplotlib.pyplot as plt\n",
    "test3.plot()\n",
    "plt.legend(exps)\n",
    "plt.show()"
   ]
  },
  {
   "cell_type": "code",
   "execution_count": 36,
   "metadata": {},
   "outputs": [
    {
     "data": {
      "text/html": [
       "<div>\n",
       "<style>\n",
       "    .dataframe thead tr:only-child th {\n",
       "        text-align: right;\n",
       "    }\n",
       "\n",
       "    .dataframe thead th {\n",
       "        text-align: left;\n",
       "    }\n",
       "\n",
       "    .dataframe tbody tr th {\n",
       "        vertical-align: top;\n",
       "    }\n",
       "</style>\n",
       "<table border=\"1\" class=\"dataframe\">\n",
       "  <thead>\n",
       "    <tr style=\"text-align: right;\">\n",
       "      <th></th>\n",
       "      <th>Annualized Volatility</th>\n",
       "      <th>Average Daily Return</th>\n",
       "      <th>Average Negative Return</th>\n",
       "      <th>Average Positive Return</th>\n",
       "      <th>Average Return per Trade</th>\n",
       "      <th>Largest Losing Trade</th>\n",
       "      <th>Largest Winning Trade</th>\n",
       "      <th>Max Drawdown</th>\n",
       "      <th>Profit Factor</th>\n",
       "      <th>Sharpe Ratio</th>\n",
       "      <th>Total Number of Trades</th>\n",
       "      <th>Total Return</th>\n",
       "      <th>Winning Rate</th>\n",
       "    </tr>\n",
       "  </thead>\n",
       "  <tbody>\n",
       "    <tr>\n",
       "      <th>1606</th>\n",
       "      <td>0.24605</td>\n",
       "      <td>0.01036</td>\n",
       "      <td>-0.002881</td>\n",
       "      <td>0.001976</td>\n",
       "      <td>0.000251</td>\n",
       "      <td>-0.02814</td>\n",
       "      <td>0.019355</td>\n",
       "      <td>-0.032904</td>\n",
       "      <td>0.68572</td>\n",
       "      <td>10.525817</td>\n",
       "      <td>2932</td>\n",
       "      <td>1.735525</td>\n",
       "      <td>0.36869</td>\n",
       "    </tr>\n",
       "  </tbody>\n",
       "</table>\n",
       "</div>"
      ],
      "text/plain": [
       "      Annualized Volatility  Average Daily Return  Average Negative Return  \\\n",
       "1606                0.24605               0.01036                -0.002881   \n",
       "\n",
       "      Average Positive Return  Average Return per Trade  Largest Losing Trade  \\\n",
       "1606                 0.001976                  0.000251              -0.02814   \n",
       "\n",
       "      Largest Winning Trade  Max Drawdown  Profit Factor  Sharpe Ratio  \\\n",
       "1606               0.019355     -0.032904        0.68572     10.525817   \n",
       "\n",
       "      Total Number of Trades  Total Return  Winning Rate  \n",
       "1606                    2932      1.735525       0.36869  "
      ]
     },
     "execution_count": 36,
     "metadata": {},
     "output_type": "execute_result"
    }
   ],
   "source": [
    "test3.performance.index=exps\n",
    "test3.performance"
   ]
  },
  {
   "cell_type": "markdown",
   "metadata": {},
   "source": [
    "# Fixed Cost_ Bu 1609"
   ]
  },
  {
   "cell_type": "code",
   "execution_count": 37,
   "metadata": {},
   "outputs": [
    {
     "name": "stderr",
     "output_type": "stream",
     "text": [
      "C:\\Users\\linda\\PycharmProjects\\QiShi\\QishiQR-master\\QishiQR-master\\Backtesting\\Vectorized\\backtest.py:18: SettingWithCopyWarning: \n",
      "A value is trying to be set on a copy of a slice from a DataFrame\n",
      "\n",
      "See the caveats in the documentation: http://pandas.pydata.org/pandas-docs/stable/indexing.html#indexing-view-versus-copy\n",
      "  self.result['return'][0] = 0.0\n",
      "C:\\Users\\linda\\PycharmProjects\\QiShi\\QishiQR-master\\QishiQR-master\\Backtesting\\Vectorized\\backtest.py:20: SettingWithCopyWarning: \n",
      "A value is trying to be set on a copy of a slice from a DataFrame\n",
      "\n",
      "See the caveats in the documentation: http://pandas.pydata.org/pandas-docs/stable/indexing.html#indexing-view-versus-copy\n",
      "  self.result['signal_bar'][0] = 0\n"
     ]
    },
    {
     "data": {
      "image/png": "[encoded data removed]",
      "text/plain": [
       "<matplotlib.figure.Figure at 0x2269a9f0898>"
      ]
     },
     "metadata": {},
     "output_type": "display_data"
    }
   ],
   "source": [
    "start = '20160407'\n",
    "end = '20160802'\n",
    "exps=['1609']\n",
    "tcas = ['fixed']*len(exps)\n",
    "DATA_DIR = 'C:\\\\Users\\\\linda\\\\PycharmProjects\\\\QiShi\\\\QishiQR-master\\\\QishiQR-master\\\\Data\\\\'\n",
    "OUTPUT_DIR = 'C:\\\\Users\\\\linda\\\\PycharmProjects\\\\QiShi\\\\QishiQR-master\\\\QishiQR-master\\\\Output\\\\'\n",
    "freq=5\n",
    "offset=0\n",
    "\n",
    "test4 = MultiContractTest(DATA_DIR, OUTPUT_DIR, slm)\n",
    "test4.build('bu', exps, 4, freq, offset, start, end, tcas)\n",
    "test4.run()\n",
    "\n",
    "test4.plot()\n",
    "plt.legend(exps)\n",
    "plt.show()"
   ]
  },
  {
   "cell_type": "code",
   "execution_count": 38,
   "metadata": {},
   "outputs": [
    {
     "data": {
      "text/html": [
       "<div>\n",
       "<style>\n",
       "    .dataframe thead tr:only-child th {\n",
       "        text-align: right;\n",
       "    }\n",
       "\n",
       "    .dataframe thead th {\n",
       "        text-align: left;\n",
       "    }\n",
       "\n",
       "    .dataframe tbody tr th {\n",
       "        vertical-align: top;\n",
       "    }\n",
       "</style>\n",
       "<table border=\"1\" class=\"dataframe\">\n",
       "  <thead>\n",
       "    <tr style=\"text-align: right;\">\n",
       "      <th></th>\n",
       "      <th>Annualized Volatility</th>\n",
       "      <th>Average Daily Return</th>\n",
       "      <th>Average Negative Return</th>\n",
       "      <th>Average Positive Return</th>\n",
       "      <th>Average Return per Trade</th>\n",
       "      <th>Largest Losing Trade</th>\n",
       "      <th>Largest Winning Trade</th>\n",
       "      <th>Max Drawdown</th>\n",
       "      <th>Profit Factor</th>\n",
       "      <th>Sharpe Ratio</th>\n",
       "      <th>Total Number of Trades</th>\n",
       "      <th>Total Return</th>\n",
       "      <th>Winning Rate</th>\n",
       "    </tr>\n",
       "  </thead>\n",
       "  <tbody>\n",
       "    <tr>\n",
       "      <th>1609</th>\n",
       "      <td>0.279988</td>\n",
       "      <td>0.010129</td>\n",
       "      <td>-0.003271</td>\n",
       "      <td>0.002147</td>\n",
       "      <td>0.000291</td>\n",
       "      <td>-0.028171</td>\n",
       "      <td>0.021483</td>\n",
       "      <td>-0.10985</td>\n",
       "      <td>0.656554</td>\n",
       "      <td>9.044376</td>\n",
       "      <td>2893</td>\n",
       "      <td>1.840728</td>\n",
       "      <td>0.408572</td>\n",
       "    </tr>\n",
       "  </tbody>\n",
       "</table>\n",
       "</div>"
      ],
      "text/plain": [
       "      Annualized Volatility  Average Daily Return  Average Negative Return  \\\n",
       "1609               0.279988              0.010129                -0.003271   \n",
       "\n",
       "      Average Positive Return  Average Return per Trade  Largest Losing Trade  \\\n",
       "1609                 0.002147                  0.000291             -0.028171   \n",
       "\n",
       "      Largest Winning Trade  Max Drawdown  Profit Factor  Sharpe Ratio  \\\n",
       "1609               0.021483      -0.10985       0.656554      9.044376   \n",
       "\n",
       "      Total Number of Trades  Total Return  Winning Rate  \n",
       "1609                    2893      1.840728      0.408572  "
      ]
     },
     "execution_count": 38,
     "metadata": {},
     "output_type": "execute_result"
    }
   ],
   "source": [
    "test4.performance.index=exps\n",
    "test4.performance"
   ]
  },
  {
   "cell_type": "markdown",
   "metadata": {},
   "source": [
    "# Fixed Cost _ Bu1612"
   ]
  },
  {
   "cell_type": "code",
   "execution_count": 40,
   "metadata": {},
   "outputs": [
    {
     "name": "stderr",
     "output_type": "stream",
     "text": [
      "C:\\Users\\linda\\PycharmProjects\\QiShi\\QishiQR-master\\QishiQR-master\\Backtesting\\Vectorized\\backtest.py:18: SettingWithCopyWarning: \n",
      "A value is trying to be set on a copy of a slice from a DataFrame\n",
      "\n",
      "See the caveats in the documentation: http://pandas.pydata.org/pandas-docs/stable/indexing.html#indexing-view-versus-copy\n",
      "  self.result['return'][0] = 0.0\n",
      "C:\\Users\\linda\\PycharmProjects\\QiShi\\QishiQR-master\\QishiQR-master\\Backtesting\\Vectorized\\backtest.py:20: SettingWithCopyWarning: \n",
      "A value is trying to be set on a copy of a slice from a DataFrame\n",
      "\n",
      "See the caveats in the documentation: http://pandas.pydata.org/pandas-docs/stable/indexing.html#indexing-view-versus-copy\n",
      "  self.result['signal_bar'][0] = 0\n"
     ]
    },
    {
     "data": {
      "image/png": "[encoded data removed]",
      "text/plain": [
       "<matplotlib.figure.Figure at 0x226a34234a8>"
      ]
     },
     "metadata": {},
     "output_type": "display_data"
    }
   ],
   "source": [
    "start = '20160803'\n",
    "end = '20161109'\n",
    "exps=['1612']\n",
    "tcas = ['fixed']*len(exps)\n",
    "DATA_DIR = 'C:\\\\Users\\\\linda\\\\PycharmProjects\\\\QiShi\\\\QishiQR-master\\\\QishiQR-master\\\\Data\\\\'\n",
    "OUTPUT_DIR = 'C:\\\\Users\\\\linda\\\\PycharmProjects\\\\QiShi\\\\QishiQR-master\\\\QishiQR-master\\\\Output\\\\'\n",
    "freq=5\n",
    "offset=0\n",
    "\n",
    "test5 = MultiContractTest(DATA_DIR, OUTPUT_DIR, slm)\n",
    "test5.build('bu', exps, 4, freq, offset, start, end, tcas)\n",
    "test5.run()\n",
    "\n",
    "test5.plot()\n",
    "plt.legend(exps)\n",
    "plt.show()"
   ]
  },
  {
   "cell_type": "code",
   "execution_count": 42,
   "metadata": {},
   "outputs": [
    {
     "data": {
      "text/html": [
       "<div>\n",
       "<style>\n",
       "    .dataframe thead tr:only-child th {\n",
       "        text-align: right;\n",
       "    }\n",
       "\n",
       "    .dataframe thead th {\n",
       "        text-align: left;\n",
       "    }\n",
       "\n",
       "    .dataframe tbody tr th {\n",
       "        vertical-align: top;\n",
       "    }\n",
       "</style>\n",
       "<table border=\"1\" class=\"dataframe\">\n",
       "  <thead>\n",
       "    <tr style=\"text-align: right;\">\n",
       "      <th></th>\n",
       "      <th>Annualized Volatility</th>\n",
       "      <th>Average Daily Return</th>\n",
       "      <th>Average Negative Return</th>\n",
       "      <th>Average Positive Return</th>\n",
       "      <th>Average Return per Trade</th>\n",
       "      <th>Largest Losing Trade</th>\n",
       "      <th>Largest Winning Trade</th>\n",
       "      <th>Max Drawdown</th>\n",
       "      <th>Profit Factor</th>\n",
       "      <th>Sharpe Ratio</th>\n",
       "      <th>Total Number of Trades</th>\n",
       "      <th>Total Return</th>\n",
       "      <th>Winning Rate</th>\n",
       "    </tr>\n",
       "  </thead>\n",
       "  <tbody>\n",
       "    <tr>\n",
       "      <th>1706</th>\n",
       "      <td>0.169042</td>\n",
       "      <td>0.007304</td>\n",
       "      <td>-0.002712</td>\n",
       "      <td>0.001809</td>\n",
       "      <td>0.00024</td>\n",
       "      <td>-0.025628</td>\n",
       "      <td>0.015168</td>\n",
       "      <td>-0.036182</td>\n",
       "      <td>0.66711</td>\n",
       "      <td>10.801554</td>\n",
       "      <td>1915</td>\n",
       "      <td>1.460131</td>\n",
       "      <td>0.358225</td>\n",
       "    </tr>\n",
       "  </tbody>\n",
       "</table>\n",
       "</div>"
      ],
      "text/plain": [
       "      Annualized Volatility  Average Daily Return  Average Negative Return  \\\n",
       "1706               0.169042              0.007304                -0.002712   \n",
       "\n",
       "      Average Positive Return  Average Return per Trade  Largest Losing Trade  \\\n",
       "1706                 0.001809                   0.00024             -0.025628   \n",
       "\n",
       "      Largest Winning Trade  Max Drawdown  Profit Factor  Sharpe Ratio  \\\n",
       "1706               0.015168     -0.036182        0.66711     10.801554   \n",
       "\n",
       "      Total Number of Trades  Total Return  Winning Rate  \n",
       "1706                    1915      1.460131      0.358225  "
      ]
     },
     "execution_count": 42,
     "metadata": {},
     "output_type": "execute_result"
    }
   ],
   "source": [
    "test5.performance.index=exps\n",
    "test5.performance"
   ]
  },
  {
   "cell_type": "markdown",
   "metadata": {},
   "source": [
    "# Fixed Cost_Bu1706"
   ]
  },
  {
   "cell_type": "code",
   "execution_count": 41,
   "metadata": {},
   "outputs": [
    {
     "name": "stderr",
     "output_type": "stream",
     "text": [
      "C:\\Users\\linda\\PycharmProjects\\QiShi\\QishiQR-master\\QishiQR-master\\Backtesting\\Vectorized\\backtest.py:18: SettingWithCopyWarning: \n",
      "A value is trying to be set on a copy of a slice from a DataFrame\n",
      "\n",
      "See the caveats in the documentation: http://pandas.pydata.org/pandas-docs/stable/indexing.html#indexing-view-versus-copy\n",
      "  self.result['return'][0] = 0.0\n",
      "C:\\Users\\linda\\PycharmProjects\\QiShi\\QishiQR-master\\QishiQR-master\\Backtesting\\Vectorized\\backtest.py:20: SettingWithCopyWarning: \n",
      "A value is trying to be set on a copy of a slice from a DataFrame\n",
      "\n",
      "See the caveats in the documentation: http://pandas.pydata.org/pandas-docs/stable/indexing.html#indexing-view-versus-copy\n",
      "  self.result['signal_bar'][0] = 0\n"
     ]
    },
    {
     "data": {
      "image/png": "[encoded data removed]",
      "text/plain": [
       "<matplotlib.figure.Figure at 0x226a2066cf8>"
      ]
     },
     "metadata": {},
     "output_type": "display_data"
    }
   ],
   "source": [
    "start = '20161110'\n",
    "end = '20161230'\n",
    "exps=['1706']\n",
    "tcas = ['fixed']*len(exps)\n",
    "DATA_DIR = 'C:\\\\Users\\\\linda\\\\PycharmProjects\\\\QiShi\\\\QishiQR-master\\\\QishiQR-master\\\\Data\\\\'\n",
    "OUTPUT_DIR = 'C:\\\\Users\\\\linda\\\\PycharmProjects\\\\QiShi\\\\QishiQR-master\\\\QishiQR-master\\\\Output\\\\'\n",
    "freq=5\n",
    "offset=0\n",
    "\n",
    "test6 = MultiContractTest(DATA_DIR, OUTPUT_DIR, slm)\n",
    "test6.build('bu', exps, 4, freq, offset, start, end, tcas)\n",
    "test6.run()\n",
    "\n",
    "test6.plot()\n",
    "plt.legend(exps)\n",
    "plt.show()"
   ]
  },
  {
   "cell_type": "code",
   "execution_count": 43,
   "metadata": {},
   "outputs": [
    {
     "data": {
      "text/html": [
       "<div>\n",
       "<style>\n",
       "    .dataframe thead tr:only-child th {\n",
       "        text-align: right;\n",
       "    }\n",
       "\n",
       "    .dataframe thead th {\n",
       "        text-align: left;\n",
       "    }\n",
       "\n",
       "    .dataframe tbody tr th {\n",
       "        vertical-align: top;\n",
       "    }\n",
       "</style>\n",
       "<table border=\"1\" class=\"dataframe\">\n",
       "  <thead>\n",
       "    <tr style=\"text-align: right;\">\n",
       "      <th></th>\n",
       "      <th>Annualized Volatility</th>\n",
       "      <th>Average Daily Return</th>\n",
       "      <th>Average Negative Return</th>\n",
       "      <th>Average Positive Return</th>\n",
       "      <th>Average Return per Trade</th>\n",
       "      <th>Largest Losing Trade</th>\n",
       "      <th>Largest Winning Trade</th>\n",
       "      <th>Max Drawdown</th>\n",
       "      <th>Profit Factor</th>\n",
       "      <th>Sharpe Ratio</th>\n",
       "      <th>Total Number of Trades</th>\n",
       "      <th>Total Return</th>\n",
       "      <th>Winning Rate</th>\n",
       "    </tr>\n",
       "  </thead>\n",
       "  <tbody>\n",
       "    <tr>\n",
       "      <th>1706</th>\n",
       "      <td>0.276709</td>\n",
       "      <td>-0.00439</td>\n",
       "      <td>-0.004615</td>\n",
       "      <td>0.002131</td>\n",
       "      <td>-0.000144</td>\n",
       "      <td>-0.037608</td>\n",
       "      <td>0.026412</td>\n",
       "      <td>-0.203879</td>\n",
       "      <td>0.461834</td>\n",
       "      <td>-3.966325</td>\n",
       "      <td>1099</td>\n",
       "      <td>0.841957</td>\n",
       "      <td>0.423112</td>\n",
       "    </tr>\n",
       "  </tbody>\n",
       "</table>\n",
       "</div>"
      ],
      "text/plain": [
       "      Annualized Volatility  Average Daily Return  Average Negative Return  \\\n",
       "1706               0.276709              -0.00439                -0.004615   \n",
       "\n",
       "      Average Positive Return  Average Return per Trade  Largest Losing Trade  \\\n",
       "1706                 0.002131                 -0.000144             -0.037608   \n",
       "\n",
       "      Largest Winning Trade  Max Drawdown  Profit Factor  Sharpe Ratio  \\\n",
       "1706               0.026412     -0.203879       0.461834     -3.966325   \n",
       "\n",
       "      Total Number of Trades  Total Return  Winning Rate  \n",
       "1706                    1099      0.841957      0.423112  "
      ]
     },
     "execution_count": 43,
     "metadata": {},
     "output_type": "execute_result"
    }
   ],
   "source": [
    "test6.performance.index=exps\n",
    "test6.performance"
   ]
  },
  {
   "cell_type": "markdown",
   "metadata": {},
   "source": [
    "# Spread Cost_Bu1606"
   ]
  },
  {
   "cell_type": "code",
   "execution_count": 44,
   "metadata": {},
   "outputs": [
    {
     "name": "stderr",
     "output_type": "stream",
     "text": [
      "C:\\Users\\linda\\PycharmProjects\\QiShi\\QishiQR-master\\QishiQR-master\\Backtesting\\Vectorized\\backtest.py:18: SettingWithCopyWarning: \n",
      "A value is trying to be set on a copy of a slice from a DataFrame\n",
      "\n",
      "See the caveats in the documentation: http://pandas.pydata.org/pandas-docs/stable/indexing.html#indexing-view-versus-copy\n",
      "  self.result['return'][0] = 0.0\n",
      "C:\\Users\\linda\\PycharmProjects\\QiShi\\QishiQR-master\\QishiQR-master\\Backtesting\\Vectorized\\backtest.py:20: SettingWithCopyWarning: \n",
      "A value is trying to be set on a copy of a slice from a DataFrame\n",
      "\n",
      "See the caveats in the documentation: http://pandas.pydata.org/pandas-docs/stable/indexing.html#indexing-view-versus-copy\n",
      "  self.result['signal_bar'][0] = 0\n"
     ]
    },
    {
     "data": {
      "text/html": [
       "<div>\n",
       "<style>\n",
       "    .dataframe thead tr:only-child th {\n",
       "        text-align: right;\n",
       "    }\n",
       "\n",
       "    .dataframe thead th {\n",
       "        text-align: left;\n",
       "    }\n",
       "\n",
       "    .dataframe tbody tr th {\n",
       "        vertical-align: top;\n",
       "    }\n",
       "</style>\n",
       "<table border=\"1\" class=\"dataframe\">\n",
       "  <thead>\n",
       "    <tr style=\"text-align: right;\">\n",
       "      <th></th>\n",
       "      <th>Annualized Volatility</th>\n",
       "      <th>Average Daily Return</th>\n",
       "      <th>Average Negative Return</th>\n",
       "      <th>Average Positive Return</th>\n",
       "      <th>Average Return per Trade</th>\n",
       "      <th>Largest Losing Trade</th>\n",
       "      <th>Largest Winning Trade</th>\n",
       "      <th>Max Drawdown</th>\n",
       "      <th>Profit Factor</th>\n",
       "      <th>Sharpe Ratio</th>\n",
       "      <th>Total Number of Trades</th>\n",
       "      <th>Total Return</th>\n",
       "      <th>Winning Rate</th>\n",
       "    </tr>\n",
       "  </thead>\n",
       "  <tbody>\n",
       "    <tr>\n",
       "      <th>0</th>\n",
       "      <td>0.239952</td>\n",
       "      <td>-0.017032</td>\n",
       "      <td>-0.002261</td>\n",
       "      <td>0.001549</td>\n",
       "      <td>-0.000412</td>\n",
       "      <td>-0.031201</td>\n",
       "      <td>0.018812</td>\n",
       "      <td>-1.224031</td>\n",
       "      <td>0.684912</td>\n",
       "      <td>-17.745369</td>\n",
       "      <td>2932</td>\n",
       "      <td>-0.209281</td>\n",
       "      <td>0.327763</td>\n",
       "    </tr>\n",
       "  </tbody>\n",
       "</table>\n",
       "</div>"
      ],
      "text/plain": [
       "   Annualized Volatility  Average Daily Return  Average Negative Return  \\\n",
       "0               0.239952             -0.017032                -0.002261   \n",
       "\n",
       "   Average Positive Return  Average Return per Trade  Largest Losing Trade  \\\n",
       "0                 0.001549                 -0.000412             -0.031201   \n",
       "\n",
       "   Largest Winning Trade  Max Drawdown  Profit Factor  Sharpe Ratio  \\\n",
       "0               0.018812     -1.224031       0.684912    -17.745369   \n",
       "\n",
       "   Total Number of Trades  Total Return  Winning Rate  \n",
       "0                    2932     -0.209281      0.327763  "
      ]
     },
     "execution_count": 44,
     "metadata": {},
     "output_type": "execute_result"
    }
   ],
   "source": [
    "from Backtesting.Vectorized.models import MultiContractTest\n",
    "start = '20160104'\n",
    "end = '20160406'\n",
    "exps=['1606']\n",
    "tca = ['Spread']*len(exps)\n",
    "\n",
    "test7 = MultiContractTest(DATA_DIR, OUTPUT_DIR, slm)\n",
    "test7.build('bu', exps, 4, freq, offset, start, end, tca)\n",
    "test7.run()\n",
    "test7.plot()\n",
    "plt.legend(exps)\n",
    "test7.performance"
   ]
  },
  {
   "cell_type": "code",
   "execution_count": 46,
   "metadata": {},
   "outputs": [
    {
     "data": {
      "image/png": "[encoded data removed]",
      "text/plain": [
       "<matplotlib.figure.Figure at 0x226a3422cc0>"
      ]
     },
     "metadata": {},
     "output_type": "display_data"
    },
    {
     "data": {
      "image/png": "[encoded data removed]",
      "text/plain": [
       "<matplotlib.figure.Figure at 0x2269e17f2e8>"
      ]
     },
     "metadata": {},
     "output_type": "display_data"
    }
   ],
   "source": [
    "plt.show()"
   ]
  },
  {
   "cell_type": "markdown",
   "metadata": {},
   "source": [
    "# Spread Cost_Bu1609"
   ]
  },
  {
   "cell_type": "code",
   "execution_count": 45,
   "metadata": {},
   "outputs": [
    {
     "name": "stderr",
     "output_type": "stream",
     "text": [
      "C:\\Users\\linda\\PycharmProjects\\QiShi\\QishiQR-master\\QishiQR-master\\Backtesting\\Vectorized\\backtest.py:18: SettingWithCopyWarning: \n",
      "A value is trying to be set on a copy of a slice from a DataFrame\n",
      "\n",
      "See the caveats in the documentation: http://pandas.pydata.org/pandas-docs/stable/indexing.html#indexing-view-versus-copy\n",
      "  self.result['return'][0] = 0.0\n",
      "C:\\Users\\linda\\PycharmProjects\\QiShi\\QishiQR-master\\QishiQR-master\\Backtesting\\Vectorized\\backtest.py:20: SettingWithCopyWarning: \n",
      "A value is trying to be set on a copy of a slice from a DataFrame\n",
      "\n",
      "See the caveats in the documentation: http://pandas.pydata.org/pandas-docs/stable/indexing.html#indexing-view-versus-copy\n",
      "  self.result['signal_bar'][0] = 0\n"
     ]
    },
    {
     "data": {
      "text/html": [
       "<div>\n",
       "<style>\n",
       "    .dataframe thead tr:only-child th {\n",
       "        text-align: right;\n",
       "    }\n",
       "\n",
       "    .dataframe thead th {\n",
       "        text-align: left;\n",
       "    }\n",
       "\n",
       "    .dataframe tbody tr th {\n",
       "        vertical-align: top;\n",
       "    }\n",
       "</style>\n",
       "<table border=\"1\" class=\"dataframe\">\n",
       "  <thead>\n",
       "    <tr style=\"text-align: right;\">\n",
       "      <th></th>\n",
       "      <th>Annualized Volatility</th>\n",
       "      <th>Average Daily Return</th>\n",
       "      <th>Average Negative Return</th>\n",
       "      <th>Average Positive Return</th>\n",
       "      <th>Average Return per Trade</th>\n",
       "      <th>Largest Losing Trade</th>\n",
       "      <th>Largest Winning Trade</th>\n",
       "      <th>Max Drawdown</th>\n",
       "      <th>Profit Factor</th>\n",
       "      <th>Sharpe Ratio</th>\n",
       "      <th>Total Number of Trades</th>\n",
       "      <th>Total Return</th>\n",
       "      <th>Winning Rate</th>\n",
       "    </tr>\n",
       "  </thead>\n",
       "  <tbody>\n",
       "    <tr>\n",
       "      <th>0</th>\n",
       "      <td>0.316404</td>\n",
       "      <td>-0.012034</td>\n",
       "      <td>-0.002508</td>\n",
       "      <td>0.001785</td>\n",
       "      <td>-0.000345</td>\n",
       "      <td>-0.032497</td>\n",
       "      <td>0.020409</td>\n",
       "      <td>-1.002904</td>\n",
       "      <td>0.711496</td>\n",
       "      <td>-9.508473</td>\n",
       "      <td>2893</td>\n",
       "      <td>0.001171</td>\n",
       "      <td>0.36571</td>\n",
       "    </tr>\n",
       "  </tbody>\n",
       "</table>\n",
       "</div>"
      ],
      "text/plain": [
       "   Annualized Volatility  Average Daily Return  Average Negative Return  \\\n",
       "0               0.316404             -0.012034                -0.002508   \n",
       "\n",
       "   Average Positive Return  Average Return per Trade  Largest Losing Trade  \\\n",
       "0                 0.001785                 -0.000345             -0.032497   \n",
       "\n",
       "   Largest Winning Trade  Max Drawdown  Profit Factor  Sharpe Ratio  \\\n",
       "0               0.020409     -1.002904       0.711496     -9.508473   \n",
       "\n",
       "   Total Number of Trades  Total Return  Winning Rate  \n",
       "0                    2893      0.001171       0.36571  "
      ]
     },
     "execution_count": 45,
     "metadata": {},
     "output_type": "execute_result"
    }
   ],
   "source": [
    "from Backtesting.Vectorized.models import MultiContractTest\n",
    "start = '20160407'\n",
    "end = '20160802'\n",
    "exps=['1609']\n",
    "tca = ['Spread']*len(exps)\n",
    "\n",
    "test8 = MultiContractTest(DATA_DIR, OUTPUT_DIR, slm)\n",
    "test8.build('bu', exps, 4, freq, offset, start, end, tca)\n",
    "test8.run()\n",
    "test8.plot()\n",
    "plt.legend(exps)\n",
    "test8.performance"
   ]
  },
  {
   "cell_type": "markdown",
   "metadata": {},
   "source": [
    "# Spread Cost_Bu1612"
   ]
  },
  {
   "cell_type": "code",
   "execution_count": 47,
   "metadata": {},
   "outputs": [
    {
     "name": "stderr",
     "output_type": "stream",
     "text": [
      "C:\\Users\\linda\\PycharmProjects\\QiShi\\QishiQR-master\\QishiQR-master\\Backtesting\\Vectorized\\backtest.py:18: SettingWithCopyWarning: \n",
      "A value is trying to be set on a copy of a slice from a DataFrame\n",
      "\n",
      "See the caveats in the documentation: http://pandas.pydata.org/pandas-docs/stable/indexing.html#indexing-view-versus-copy\n",
      "  self.result['return'][0] = 0.0\n",
      "C:\\Users\\linda\\PycharmProjects\\QiShi\\QishiQR-master\\QishiQR-master\\Backtesting\\Vectorized\\backtest.py:20: SettingWithCopyWarning: \n",
      "A value is trying to be set on a copy of a slice from a DataFrame\n",
      "\n",
      "See the caveats in the documentation: http://pandas.pydata.org/pandas-docs/stable/indexing.html#indexing-view-versus-copy\n",
      "  self.result['signal_bar'][0] = 0\n"
     ]
    },
    {
     "data": {
      "image/png": "[encoded data removed]",
      "text/plain": [
       "<matplotlib.figure.Figure at 0x2269e2ad438>"
      ]
     },
     "metadata": {},
     "output_type": "display_data"
    }
   ],
   "source": [
    "from Backtesting.Vectorized.models import MultiContractTest\n",
    "start = '20160803'\n",
    "end = '20161109'\n",
    "exps=['1612']\n",
    "tca = ['Spread']*len(exps)\n",
    "\n",
    "test8 = MultiContractTest(DATA_DIR, OUTPUT_DIR, slm)\n",
    "test8.build('bu', exps, 4, freq, offset, start, end, tca)\n",
    "test8.run()\n",
    "test8.plot()\n",
    "plt.legend(exps)\n",
    "test8.performance\n",
    "plt.show()"
   ]
  },
  {
   "cell_type": "code",
   "execution_count": 49,
   "metadata": {},
   "outputs": [
    {
     "data": {
      "text/html": [
       "<div>\n",
       "<style>\n",
       "    .dataframe thead tr:only-child th {\n",
       "        text-align: right;\n",
       "    }\n",
       "\n",
       "    .dataframe thead th {\n",
       "        text-align: left;\n",
       "    }\n",
       "\n",
       "    .dataframe tbody tr th {\n",
       "        vertical-align: top;\n",
       "    }\n",
       "</style>\n",
       "<table border=\"1\" class=\"dataframe\">\n",
       "  <thead>\n",
       "    <tr style=\"text-align: right;\">\n",
       "      <th></th>\n",
       "      <th>Annualized Volatility</th>\n",
       "      <th>Average Daily Return</th>\n",
       "      <th>Average Negative Return</th>\n",
       "      <th>Average Positive Return</th>\n",
       "      <th>Average Return per Trade</th>\n",
       "      <th>Largest Losing Trade</th>\n",
       "      <th>Largest Winning Trade</th>\n",
       "      <th>Max Drawdown</th>\n",
       "      <th>Profit Factor</th>\n",
       "      <th>Sharpe Ratio</th>\n",
       "      <th>Total Number of Trades</th>\n",
       "      <th>Total Return</th>\n",
       "      <th>Winning Rate</th>\n",
       "    </tr>\n",
       "  </thead>\n",
       "  <tbody>\n",
       "    <tr>\n",
       "      <th>0</th>\n",
       "      <td>0.173491</td>\n",
       "      <td>-0.011421</td>\n",
       "      <td>-0.002014</td>\n",
       "      <td>0.001384</td>\n",
       "      <td>-0.000376</td>\n",
       "      <td>-0.030679</td>\n",
       "      <td>0.014084</td>\n",
       "      <td>-0.725052</td>\n",
       "      <td>0.687396</td>\n",
       "      <td>-16.457803</td>\n",
       "      <td>1915</td>\n",
       "      <td>0.280469</td>\n",
       "      <td>0.319582</td>\n",
       "    </tr>\n",
       "  </tbody>\n",
       "</table>\n",
       "</div>"
      ],
      "text/plain": [
       "   Annualized Volatility  Average Daily Return  Average Negative Return  \\\n",
       "0               0.173491             -0.011421                -0.002014   \n",
       "\n",
       "   Average Positive Return  Average Return per Trade  Largest Losing Trade  \\\n",
       "0                 0.001384                 -0.000376             -0.030679   \n",
       "\n",
       "   Largest Winning Trade  Max Drawdown  Profit Factor  Sharpe Ratio  \\\n",
       "0               0.014084     -0.725052       0.687396    -16.457803   \n",
       "\n",
       "   Total Number of Trades  Total Return  Winning Rate  \n",
       "0                    1915      0.280469      0.319582  "
      ]
     },
     "execution_count": 49,
     "metadata": {},
     "output_type": "execute_result"
    }
   ],
   "source": [
    "test8.performance"
   ]
  },
  {
   "cell_type": "markdown",
   "metadata": {},
   "source": [
    "# Spread Cost_Bu1706"
   ]
  },
  {
   "cell_type": "code",
   "execution_count": 48,
   "metadata": {},
   "outputs": [
    {
     "name": "stderr",
     "output_type": "stream",
     "text": [
      "C:\\Users\\linda\\PycharmProjects\\QiShi\\QishiQR-master\\QishiQR-master\\Backtesting\\Vectorized\\backtest.py:18: SettingWithCopyWarning: \n",
      "A value is trying to be set on a copy of a slice from a DataFrame\n",
      "\n",
      "See the caveats in the documentation: http://pandas.pydata.org/pandas-docs/stable/indexing.html#indexing-view-versus-copy\n",
      "  self.result['return'][0] = 0.0\n",
      "C:\\Users\\linda\\PycharmProjects\\QiShi\\QishiQR-master\\QishiQR-master\\Backtesting\\Vectorized\\backtest.py:20: SettingWithCopyWarning: \n",
      "A value is trying to be set on a copy of a slice from a DataFrame\n",
      "\n",
      "See the caveats in the documentation: http://pandas.pydata.org/pandas-docs/stable/indexing.html#indexing-view-versus-copy\n",
      "  self.result['signal_bar'][0] = 0\n"
     ]
    },
    {
     "data": {
      "image/png": "[encoded data removed]",
      "text/plain": [
       "<matplotlib.figure.Figure at 0x2269aa53c88>"
      ]
     },
     "metadata": {},
     "output_type": "display_data"
    }
   ],
   "source": [
    "from Backtesting.Vectorized.models import MultiContractTest\n",
    "start = '20160803'\n",
    "end = '20161109'\n",
    "exps=['1612']\n",
    "tca = ['Spread']*len(exps)\n",
    "\n",
    "test10 = MultiContractTest(DATA_DIR, OUTPUT_DIR, slm)\n",
    "test10.build('bu', exps, 4, freq, offset, start, end, tca)\n",
    "test10.run()\n",
    "test10.plot()\n",
    "plt.legend(exps)\n",
    "test10.performance\n",
    "plt.show()"
   ]
  },
  {
   "cell_type": "code",
   "execution_count": 50,
   "metadata": {},
   "outputs": [
    {
     "data": {
      "text/html": [
       "<div>\n",
       "<style>\n",
       "    .dataframe thead tr:only-child th {\n",
       "        text-align: right;\n",
       "    }\n",
       "\n",
       "    .dataframe thead th {\n",
       "        text-align: left;\n",
       "    }\n",
       "\n",
       "    .dataframe tbody tr th {\n",
       "        vertical-align: top;\n",
       "    }\n",
       "</style>\n",
       "<table border=\"1\" class=\"dataframe\">\n",
       "  <thead>\n",
       "    <tr style=\"text-align: right;\">\n",
       "      <th></th>\n",
       "      <th>Annualized Volatility</th>\n",
       "      <th>Average Daily Return</th>\n",
       "      <th>Average Negative Return</th>\n",
       "      <th>Average Positive Return</th>\n",
       "      <th>Average Return per Trade</th>\n",
       "      <th>Largest Losing Trade</th>\n",
       "      <th>Largest Winning Trade</th>\n",
       "      <th>Max Drawdown</th>\n",
       "      <th>Profit Factor</th>\n",
       "      <th>Sharpe Ratio</th>\n",
       "      <th>Total Number of Trades</th>\n",
       "      <th>Total Return</th>\n",
       "      <th>Winning Rate</th>\n",
       "    </tr>\n",
       "  </thead>\n",
       "  <tbody>\n",
       "    <tr>\n",
       "      <th>0</th>\n",
       "      <td>0.173491</td>\n",
       "      <td>-0.011421</td>\n",
       "      <td>-0.002014</td>\n",
       "      <td>0.001384</td>\n",
       "      <td>-0.000376</td>\n",
       "      <td>-0.030679</td>\n",
       "      <td>0.014084</td>\n",
       "      <td>-0.725052</td>\n",
       "      <td>0.687396</td>\n",
       "      <td>-16.457803</td>\n",
       "      <td>1915</td>\n",
       "      <td>0.280469</td>\n",
       "      <td>0.319582</td>\n",
       "    </tr>\n",
       "  </tbody>\n",
       "</table>\n",
       "</div>"
      ],
      "text/plain": [
       "   Annualized Volatility  Average Daily Return  Average Negative Return  \\\n",
       "0               0.173491             -0.011421                -0.002014   \n",
       "\n",
       "   Average Positive Return  Average Return per Trade  Largest Losing Trade  \\\n",
       "0                 0.001384                 -0.000376             -0.030679   \n",
       "\n",
       "   Largest Winning Trade  Max Drawdown  Profit Factor  Sharpe Ratio  \\\n",
       "0               0.014084     -0.725052       0.687396    -16.457803   \n",
       "\n",
       "   Total Number of Trades  Total Return  Winning Rate  \n",
       "0                    1915      0.280469      0.319582  "
      ]
     },
     "execution_count": 50,
     "metadata": {},
     "output_type": "execute_result"
    }
   ],
   "source": [
    "test10.performance"
   ]
  },
  {
   "cell_type": "code",
   "execution_count": null,
   "metadata": {
    "collapsed": true
   },
   "outputs": [],
   "source": []
  }
 ],
 "metadata": {
  "kernelspec": {
   "display_name": "Python 3",
   "language": "python",
   "name": "python3"
  },
  "language_info": {
   "codemirror_mode": {
    "name": "ipython",
    "version": 3
   },
   "file_extension": ".py",
   "mimetype": "text/x-python",
   "name": "python",
   "nbconvert_exporter": "python",
   "pygments_lexer": "ipython3",
   "version": "3.6.1"
  }
 },
 "nbformat": 4,
 "nbformat_minor": 2
}
