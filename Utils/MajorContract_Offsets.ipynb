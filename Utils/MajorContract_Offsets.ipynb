{
 "cells": [
  {
   "cell_type": "code",
   "execution_count": 1,
   "metadata": {
    "collapsed": true
   },
   "outputs": [],
   "source": [
    "import os\n",
    "import fnmatch\n",
    "import pandas as pd\n",
    "from datetime import *\n",
    "import matplotlib.pyplot as plt\n",
    "import pandas as pd"
   ]
  },
  {
   "cell_type": "code",
   "execution_count": 6,
   "metadata": {
    "collapsed": true
   },
   "outputs": [],
   "source": [
    "import sys\n",
    "sys.path.append(\"C:/Documents/Qishi_QR\")\n",
    "import Utils.MajorContract_Offsets\n",
    "import importlib\n",
    "\n",
    "importlib.reload(Utils.MajorContract_split)\n",
    "from Utils.MajorContract_Offsets import *\n",
    "\n",
    "import Backtesting.Vectorized.lm_validation\n",
    "\n",
    "importlib.reload(Backtesting.Vectorized.lm_validation)\n",
    "\n",
    "from Backtesting.Vectorized.lm_validation import LmValidation"
   ]
  },
  {
   "cell_type": "markdown",
   "metadata": {},
   "source": [
    "## Ru. Freq=5."
   ]
  },
  {
   "cell_type": "raw",
   "metadata": {},
   "source": [
    "Range for  1605 is:  2016-01-04 00:00:00 2016-03-17 00:00:00\n",
    "Range for  1609 is:  2016-03-18 00:00:00 2016-08-01 00:00:00\n",
    "Range for  1701 is:  2016-08-02 00:00:00 2016-11-24 00:00:00\n",
    "Range for  1705 is:  2016-11-25 00:00:00 2016-12-30 00:00:00"
   ]
  },
  {
   "cell_type": "code",
   "execution_count": 3,
   "metadata": {
    "collapsed": true
   },
   "outputs": [],
   "source": [
    "freq=5"
   ]
  },
  {
   "cell_type": "code",
   "execution_count": 4,
   "metadata": {
    "collapsed": true
   },
   "outputs": [],
   "source": [
    "offset = [0.1+i for i in range(5)]"
   ]
  },
  {
   "cell_type": "code",
   "execution_count": 5,
   "metadata": {},
   "outputs": [
    {
     "data": {
      "text/plain": [
       "[0.1, 1.1, 2.1, 3.1, 4.1]"
      ]
     },
     "execution_count": 5,
     "metadata": {},
     "output_type": "execute_result"
    }
   ],
   "source": [
    "offset"
   ]
  },
  {
   "cell_type": "code",
   "execution_count": 7,
   "metadata": {},
   "outputs": [
    {
     "name": "stdout",
     "output_type": "stream",
     "text": [
      "ru1605 ../Data/ru\n",
      "ID trade_range transition_begin transition_end\n",
      "1605 ['2015-11-1', '2016-3-31'] 2016-01-01 00:00:00 2016-03-17 00:00:00\n",
      "probability table:  20160104 20160316\n",
      "probability table:  20160104 20160316\n",
      "probability table:  20160104 20160316\n",
      "probability table:  20160104 20160316\n",
      "probability table:  20160104 20160316\n",
      "ru1609 ../Data/ru\n",
      "ID trade_range transition_begin transition_end\n",
      "1609 ['2016-3-1', '2016-8-31'] 2016-03-17 00:00:00 2016-08-01 00:00:00\n",
      "probability table:  20160317.0 20160630.0\n",
      "probability table:  20160317.0 20160630.0\n",
      "probability table:  20160317.0 20160630.0\n",
      "probability table:  20160317.0 20160630.0\n",
      "probability table:  20160317.0 20160630.0\n",
      "ru1701 ../Data/ru\n",
      "ID trade_range transition_begin transition_end\n",
      "1701 ['2016-8-1', '2016-11-30'] 2016-08-01 00:00:00 2016-11-24 00:00:00\n",
      "ru1705 ../Data/ru\n",
      "ID trade_range transition_begin transition_end\n",
      "1705 ['2016-11-1', '2017-3-31'] 2016-11-24 00:00:00 2016-12-31 00:00:00\n"
     ]
    }
   ],
   "source": [
    "ru_train, ru_test, ru_probability_table = MajorContracts(symbol='ru', split_time = '2016-7-1', topdir=r'../Data',\n",
    "                                          maturity={'1605':['2015-11-1','2016-3-31'],\n",
    "                                                    '1609':['2016-3-1','2016-8-31'],\n",
    "                                                    '1701':['2016-8-1','2016-11-30'],\n",
    "                                                    '1705':['2016-11-1', '2017-3-31']\n",
    "                                                   },\n",
    "                                          transitions = {'1605':'2016-3-17', '1609':'2016-8-1', '1701':'2016-11-24',\n",
    "                                                        '1705':'2017-3-17'},\n",
    "                                          freq = freq, offset = offset).create_major_overlap()\n"
   ]
  },
  {
   "cell_type": "code",
   "execution_count": 10,
   "metadata": {},
   "outputs": [
    {
     "data": {
      "text/plain": [
       "dict_keys(['0.1', '1.1', '2.1', '3.1', '4.1'])"
      ]
     },
     "execution_count": 10,
     "metadata": {},
     "output_type": "execute_result"
    }
   ],
   "source": [
    "ru_test.keys()"
   ]
  },
  {
   "cell_type": "code",
   "execution_count": 11,
   "metadata": {},
   "outputs": [
    {
     "data": {
      "text/plain": [
       "dict_keys(['1605', '1609', '1701', '1705'])"
      ]
     },
     "execution_count": 11,
     "metadata": {},
     "output_type": "execute_result"
    }
   ],
   "source": [
    "ru_probability_table.keys()"
   ]
  },
  {
   "cell_type": "code",
   "execution_count": 22,
   "metadata": {},
   "outputs": [],
   "source": [
    "for offset in ru_test.keys():\n",
    "    ru_test[offset].to_csv(r'../Output/ru_major_' + str(freq) + '_' + offset + '.csv')\n",
    "    for contract in ['1605', '1609']:\n",
    "        ru_probability_table[contract].to_csv(r'../Strategy/ru_'+ contract + '_major_strategy_' + str(freq) + '_' + offset + '.csv', index=False)"
   ]
  },
  {
   "cell_type": "code",
   "execution_count": 23,
   "metadata": {},
   "outputs": [
    {
     "name": "stdout",
     "output_type": "stream",
     "text": [
      "ru_1605_major_strategy_5_0.1.csv\n",
      "ru_1605_major_strategy_5_1.1.csv\n",
      "ru_1605_major_strategy_5_2.1.csv\n",
      "ru_1605_major_strategy_5_3.1.csv\n",
      "ru_1605_major_strategy_5_4.1.csv\n",
      "ru_1609_major_strategy_5_0.1.csv\n",
      "ru_1609_major_strategy_5_1.1.csv\n",
      "ru_1609_major_strategy_5_2.1.csv\n",
      "ru_1609_major_strategy_5_3.1.csv\n",
      "ru_1609_major_strategy_5_4.1.csv\n",
      "   prior      0      1      2   total signal\n",
      "0      p  66235  68205  70160  204600      2\n",
      "1     p0  24790  20360  21060   66210      0\n",
      "2    p00  10365   7065   7350   24780      0\n",
      "3   p000   4645   2755   2965   10365      0\n",
      "4  p0000   2205   1170   1270    4645      0\n"
     ]
    }
   ],
   "source": [
    "#ru\n",
    "filepath = \"C:/Documents/Qishi_QR/Strategy\"\n",
    "fig = plt.figure()\n",
    "slm = pd.DataFrame()\n",
    "for path, dirlist, filelist in os.walk(filepath):\n",
    "    #print(filelist)\n",
    "    for filename in fnmatch.filter(filelist, \"ru_*_major_strategy_5_*.csv\"):\n",
    "        print(filename)\n",
    "        data = pd.read_csv(os.path.join(path,filename))\n",
    "             \n",
    "        slm = slm.append(data[['prior', '0', '1', '2', 'total']].groupby(['prior']).sum().reset_index())\n",
    "slm = slm.groupby(['prior']).sum().reset_index()\n",
    "slm['signal'] = slm.loc[:, '0':'2'].idxmax(axis=1)\n",
    "slm.to_csv('../Strategy/ru_major_strategy.csv')\n",
    "print(slm.head())"
   ]
  },
  {
   "cell_type": "code",
   "execution_count": 24,
   "metadata": {},
   "outputs": [
    {
     "name": "stderr",
     "output_type": "stream",
     "text": [
      "C:\\Users\\Shufang\\Anaconda3\\lib\\site-packages\\pandas\\core\\indexing.py:179: SettingWithCopyWarning: \n",
      "A value is trying to be set on a copy of a slice from a DataFrame\n",
      "\n",
      "See the caveats in the documentation: http://pandas.pydata.org/pandas-docs/stable/indexing.html#indexing-view-versus-copy\n",
      "  self._setitem_with_indexer(indexer, value)\n",
      "C:/Users/Shufang/Documents/Qishi_QR\\Backtesting\\Vectorized\\backtest.py:20: SettingWithCopyWarning: \n",
      "A value is trying to be set on a copy of a slice from a DataFrame\n",
      "\n",
      "See the caveats in the documentation: http://pandas.pydata.org/pandas-docs/stable/indexing.html#indexing-view-versus-copy\n",
      "  self.result['signal_bar'][0] = 0\n"
     ]
    },
    {
     "data": {
      "text/plain": [
       "<matplotlib.figure.Figure at 0x18d69ce7860>"
      ]
     },
     "metadata": {},
     "output_type": "display_data"
    },
    {
     "data": {
      "text/plain": [
       "<matplotlib.figure.Figure at 0x18d6a082588>"
      ]
     },
     "metadata": {},
     "output_type": "display_data"
    },
    {
     "data": {
      "text/plain": [
       "<matplotlib.figure.Figure at 0x18d694ea278>"
      ]
     },
     "metadata": {},
     "output_type": "display_data"
    },
    {
     "data": {
      "text/plain": [
       "<matplotlib.figure.Figure at 0x18d69b0ad68>"
      ]
     },
     "metadata": {},
     "output_type": "display_data"
    },
    {
     "data": {
      "image/png": "[encoded data removed]",
      "text/plain": [
       "<matplotlib.figure.Figure at 0x18d69257cc0>"
      ]
     },
     "metadata": {},
     "output_type": "display_data"
    },
    {
     "name": "stdout",
     "output_type": "stream",
     "text": [
      "   Annualized Volatility  Average Daily Return  Average Negative Return  \\\n",
      "0               0.332925              0.004053                -0.002766   \n",
      "1               0.341502              0.003916                -0.002852   \n",
      "2               0.346000              0.002380                -0.003507   \n",
      "3               0.342234             -0.000053                -0.003896   \n",
      "4               0.350087              0.004493                -0.003050   \n",
      "5               0.361456              0.001874                -0.002596   \n",
      "6               0.371633              0.001872                -0.002276   \n",
      "\n",
      "   Average Positive Return  Average Return per Trade  Largest Losing Trade  \\\n",
      "0                 0.001548                  0.000093             -0.088880   \n",
      "1                 0.001540                  0.000099             -0.088880   \n",
      "2                 0.001613                  0.000076             -0.089918   \n",
      "3                 0.001624                 -0.000004             -0.114892   \n",
      "4                 0.001825                  0.000140             -0.047449   \n",
      "5                 0.001865                  0.000050             -0.110953   \n",
      "6                 0.001867                  0.000043             -0.087778   \n",
      "\n",
      "   Largest Winning Trade  Max Drawdown  Profit Factor  Sharpe Ratio  \\\n",
      "0               0.038047     -0.114749       0.560489      3.470287   \n",
      "1               0.038047     -0.120088       0.540384      3.262267   \n",
      "2               0.038045     -0.151593       0.460743      1.874531   \n",
      "3               0.014949     -0.226169       0.417860      0.094821   \n",
      "4               0.085053     -0.119435       0.598555      3.276032   \n",
      "5               0.040265     -0.162369       0.719792      1.152968   \n",
      "6               0.063108     -0.159796       0.825578      1.238460   \n",
      "\n",
      "   Total Number of Trades  Total Return  Winning Rate  \n",
      "0                  2766.6      1.259394      0.502839  \n",
      "1                  2499.4      1.250634      0.570623  \n",
      "2                  1975.8      1.152295      0.599859  \n",
      "3                  1764.0      0.996607      0.589612  \n",
      "4                  2045.8      1.287555      0.518345  \n",
      "5                  2389.6      1.119918      0.468185  \n",
      "6                  2740.0      1.119782      0.410447  \n"
     ]
    }
   ],
   "source": [
    "#max_order=7 is actually max order 8\n",
    "lm_validation = LmValidation(slm, symbol='ru_major', data_dir=r'../Output',\n",
    "                                 valid_dir=r'../Validation', max_order=7, offsets_average=True, n_offsets=5)\n",
    "lm_validation.run()"
   ]
  },
  {
   "cell_type": "code",
   "execution_count": null,
   "metadata": {
    "collapsed": true
   },
   "outputs": [],
   "source": []
  }
 ],
 "metadata": {
  "kernelspec": {
   "display_name": "Python 3",
   "language": "python",
   "name": "python3"
  },
  "language_info": {
   "codemirror_mode": {
    "name": "ipython",
    "version": 3
   },
   "file_extension": ".py",
   "mimetype": "text/x-python",
   "name": "python",
   "nbconvert_exporter": "python",
   "pygments_lexer": "ipython3",
   "version": "3.6.1"
  }
 },
 "nbformat": 4,
 "nbformat_minor": 2
}
