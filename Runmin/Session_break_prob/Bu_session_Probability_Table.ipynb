{
 "cells": [
  {
   "cell_type": "code",
   "execution_count": 1,
   "metadata": {},
   "outputs": [],
   "source": [
    "# Remember to update your path\n",
    "%load_ext autoreload\n",
    "%autoreload 2\n",
    "\n",
    "import sys\n",
    "sys.path.append('C:/Linux_home/Qishi/QishiQR')\n",
    "\n",
    "from pathlib import Path\n",
    "\n",
    "from Backtesting.Vectorized.cross_compare import *\n",
    "from Backtesting.Vectorized.models import *\n",
    "\n",
    "from Utils.lm import gen_strategy, LM_model\n",
    "from Utils.MajorContract_split import MajorContracts\n",
    "\n",
    "import json\n",
    "import warnings\n",
    "warnings.filterwarnings(action='ignore')\n",
    "\n",
    "# ====== Initial Configuration ========\n",
    "\n",
    "try:\n",
    "    with open('../config.json','r') as f:\n",
    "        config = json.load(f)\n",
    "except:\n",
    "    print(\"Failed to find the configuration file.\")\n",
    "        \n",
    "DATA_DIR = config['Tick path']\n",
    "OUTPUT_DIR = config['Output path']\n",
    "Strategy_DIR = config['Strategy path']\n",
    "Major_DIR = config['Major path']\n",
    "model_order = config['Max model order']\n",
    "number_of_states = config['State number']\n",
    "freq = config['Frequency']\n",
    "offset = config['Offset']\n",
    "tca = None\n",
    "\n"
   ]
  },
  {
   "cell_type": "markdown",
   "metadata": {},
   "source": [
    "# Method\n",
    "After we obtain the ticks and before we generate `tick_all_sequence`, in `MajorContracts.create_major_overlap()`, we add a split indicator `9`(Line 157-158). The insertion is done by a function\n",
    "`session_break`. \n",
    "\n",
    "```python\n",
    "    def session_break(self, tick_all, start_day, end_day, break_time, split_col='Direction'):\n",
    "        \"\"\"\n",
    "        Insert breaking timepoints in the tick tick_all\n",
    "        \n",
    "        Args:\n",
    "            start_day: str. yyyy-mm-dd\n",
    "            break_time: str. hh:mm:ss\n",
    "        \"\"\"\n",
    "        if type(break_time) is str:\n",
    "            break_time = [break_time]\n",
    "        break_indicator = []\n",
    "\n",
    "        for bt in break_time:\n",
    "            start = pd.to_datetime(start_day) + pd.to_timedelta(bt)\n",
    "            end   = pd.to_datetime(end_day) + pd.to_timedelta(bt)\n",
    "            break_indicator.append(pd.date_range(start, end, freq='1d'))\n",
    "        time_index = reduce(lambda x,y: x.append(y), break_indicator)\n",
    "\n",
    "        for idx in time_index:\n",
    "            tick_all.loc[idx,split_col] = 9\n",
    "\n",
    "        tick_all.sort_index(inplace=True)\n",
    "\n",
    "```\n",
    "\n"
   ]
  },
  {
   "cell_type": "markdown",
   "metadata": {},
   "source": [
    "# Bu test"
   ]
  },
  {
   "cell_type": "markdown",
   "metadata": {},
   "source": [
    "## Build time series of Major contracts without session breaks"
   ]
  },
  {
   "cell_type": "code",
   "execution_count": 3,
   "metadata": {},
   "outputs": [],
   "source": [
    "bu_mj = MajorContracts(symbol='bu', split_time='2016-7-1', topdir='C:/Linux_home/Qishi/tick2016', \n",
    "                       maturity={'1606':['2015-11-1','2016-5-1'], \n",
    "                                 '1609':['2016-2-1','2016-8-1'], \n",
    "                                 '1612':['2016-6-1','2016-11-15'],\n",
    "                                 '1706':['2016-10-15','2017-1-31']}, \n",
    "                       transitions={'1606':'2016-3-1', '1609':'2016-7-1', '1612':'2016-11-1', '1706':'2017-1-1' },\n",
    "                       freq=freq, offset=offset)"
   ]
  },
  {
   "cell_type": "code",
   "execution_count": 8,
   "metadata": {},
   "outputs": [
    {
     "name": "stdout",
     "output_type": "stream",
     "text": [
      "bu1606 C:/Linux_home/Qishi/tick2016/bu\n",
      "0\n",
      "ID trade_range transition_begin transition_end\n",
      "1606 ['2015-11-1', '2016-5-1'] 2016-01-01 00:00:00 2016-03-01 00:00:00\n",
      "probability table:  20160104.0 20160229.0\n",
      "bu1609 C:/Linux_home/Qishi/tick2016/bu\n",
      "0\n",
      "ID trade_range transition_begin transition_end\n",
      "1609 ['2016-2-1', '2016-8-1'] 2016-03-01 00:00:00 2016-07-01 00:00:00\n",
      "probability table:  20160229.0 20160630.0\n",
      "bu1612 C:/Linux_home/Qishi/tick2016/bu\n",
      "0\n",
      "ID trade_range transition_begin transition_end\n",
      "1612 ['2016-6-1', '2016-11-15'] 2016-07-01 00:00:00 2016-11-01 00:00:00\n",
      "bu1706 C:/Linux_home/Qishi/tick2016/bu\n",
      "0\n",
      "ID trade_range transition_begin transition_end\n",
      "1706 ['2016-10-15', '2017-1-31'] 2016-11-01 00:00:00 2016-12-31 00:00:00\n"
     ]
    }
   ],
   "source": [
    "df_bu_train, df_bu_test, ptb = bu_mj.create_major_overlap()"
   ]
  },
  {
   "cell_type": "markdown",
   "metadata": {},
   "source": [
    "## Build time series of Major contracts with session breaks"
   ]
  },
  {
   "cell_type": "code",
   "execution_count": 17,
   "metadata": {},
   "outputs": [
    {
     "name": "stdout",
     "output_type": "stream",
     "text": [
      "bu1606 C:/Linux_home/Qishi/tick2016/bu\n",
      "0\n",
      "ID trade_range transition_begin transition_end\n",
      "1606 ['2015-11-1', '2016-5-1'] 2016-01-01 00:00:00 2016-03-01 00:00:00\n",
      "probability table:  20160104.0 20160229.0\n",
      "bu1609 C:/Linux_home/Qishi/tick2016/bu\n",
      "0\n",
      "ID trade_range transition_begin transition_end\n",
      "1609 ['2016-2-1', '2016-8-1'] 2016-03-01 00:00:00 2016-07-01 00:00:00\n",
      "probability table:  20160229.0 20160630.0\n",
      "bu1612 C:/Linux_home/Qishi/tick2016/bu\n",
      "0\n",
      "ID trade_range transition_begin transition_end\n",
      "1612 ['2016-6-1', '2016-11-15'] 2016-07-01 00:00:00 2016-11-01 00:00:00\n",
      "bu1706 C:/Linux_home/Qishi/tick2016/bu\n",
      "0\n",
      "ID trade_range transition_begin transition_end\n",
      "1706 ['2016-10-15', '2017-1-31'] 2016-11-01 00:00:00 2016-12-31 00:00:00\n"
     ]
    }
   ],
   "source": [
    "# Put breakpoints at the time where no transactions are allowed\n",
    "session_split =  ['10:35:00','11:40:00', '17:00:00', '03:00:00']\n",
    "df_bu_train_split, df_bu_test_split, ptb_split = bu_mj.create_major_overlap(session_split)"
   ]
  },
  {
   "cell_type": "markdown",
   "metadata": {},
   "source": [
    "# Compare training/test data"
   ]
  },
  {
   "cell_type": "code",
   "execution_count": 18,
   "metadata": {},
   "outputs": [
    {
     "data": {
      "text/plain": [
       "True"
      ]
     },
     "execution_count": 18,
     "metadata": {},
     "output_type": "execute_result"
    }
   ],
   "source": [
    "df_bu_test.equals(df_bu_test_split)"
   ]
  },
  {
   "cell_type": "code",
   "execution_count": 19,
   "metadata": {},
   "outputs": [
    {
     "data": {
      "text/plain": [
       "True"
      ]
     },
     "execution_count": 19,
     "metadata": {},
     "output_type": "execute_result"
    }
   ],
   "source": [
    "df_bu_train.equals(df_bu_train_split)"
   ]
  },
  {
   "cell_type": "markdown",
   "metadata": {},
   "source": [
    "# Compare the probability table"
   ]
  },
  {
   "cell_type": "code",
   "execution_count": 29,
   "metadata": {},
   "outputs": [
    {
     "data": {
      "text/plain": [
       "<matplotlib.axes._subplots.AxesSubplot at 0x2d12e8bc9b0>"
      ]
     },
     "execution_count": 29,
     "metadata": {},
     "output_type": "execute_result"
    },
    {
     "data": {
      "image/png": "[encoded data removed]",
      "text/plain": [
       "<Figure size 432x288 with 1 Axes>"
      ]
     },
     "metadata": {},
     "output_type": "display_data"
    }
   ],
   "source": [
    "(ptb['1609'][['0','1','2']] - ptb_split['1609'][['0','1','2']]).plot()"
   ]
  },
  {
   "cell_type": "markdown",
   "metadata": {},
   "source": [
    "Examine the spike."
   ]
  },
  {
   "cell_type": "code",
   "execution_count": 33,
   "metadata": {},
   "outputs": [
    {
     "data": {
      "text/html": [
       "<div>\n",
       "<style scoped>\n",
       "    .dataframe tbody tr th:only-of-type {\n",
       "        vertical-align: middle;\n",
       "    }\n",
       "\n",
       "    .dataframe tbody tr th {\n",
       "        vertical-align: top;\n",
       "    }\n",
       "\n",
       "    .dataframe thead th {\n",
       "        text-align: right;\n",
       "    }\n",
       "</style>\n",
       "<table border=\"1\" class=\"dataframe\">\n",
       "  <thead>\n",
       "    <tr style=\"text-align: right;\">\n",
       "      <th>move</th>\n",
       "      <th>0</th>\n",
       "      <th>1</th>\n",
       "      <th>2</th>\n",
       "    </tr>\n",
       "    <tr>\n",
       "      <th>prior</th>\n",
       "      <th></th>\n",
       "      <th></th>\n",
       "      <th></th>\n",
       "    </tr>\n",
       "  </thead>\n",
       "  <tbody>\n",
       "    <tr>\n",
       "      <th>0</th>\n",
       "      <td>170</td>\n",
       "      <td>54</td>\n",
       "      <td>72</td>\n",
       "    </tr>\n",
       "    <tr>\n",
       "      <th>00</th>\n",
       "      <td>213</td>\n",
       "      <td>36</td>\n",
       "      <td>43</td>\n",
       "    </tr>\n",
       "    <tr>\n",
       "      <th>000</th>\n",
       "      <td>264</td>\n",
       "      <td>19</td>\n",
       "      <td>27</td>\n",
       "    </tr>\n",
       "    <tr>\n",
       "      <th>0000</th>\n",
       "      <td>324</td>\n",
       "      <td>14</td>\n",
       "      <td>18</td>\n",
       "    </tr>\n",
       "    <tr>\n",
       "      <th>00000</th>\n",
       "      <td>386</td>\n",
       "      <td>13</td>\n",
       "      <td>16</td>\n",
       "    </tr>\n",
       "    <tr>\n",
       "      <th>000000</th>\n",
       "      <td>448</td>\n",
       "      <td>12</td>\n",
       "      <td>15</td>\n",
       "    </tr>\n",
       "    <tr>\n",
       "      <th>0000000</th>\n",
       "      <td>512</td>\n",
       "      <td>10</td>\n",
       "      <td>15</td>\n",
       "    </tr>\n",
       "  </tbody>\n",
       "</table>\n",
       "</div>"
      ],
      "text/plain": [
       "move       0   1   2\n",
       "prior               \n",
       "0        170  54  72\n",
       "00       213  36  43\n",
       "000      264  19  27\n",
       "0000     324  14  18\n",
       "00000    386  13  16\n",
       "000000   448  12  15\n",
       "0000000  512  10  15"
      ]
     },
     "execution_count": 33,
     "metadata": {},
     "output_type": "execute_result"
    }
   ],
   "source": [
    "ptb_diff = ptb['1609'][['0','1','2']] - ptb_split['1609'][['0','1','2']]\n",
    "ptb_diff[ptb_diff['0']>150]"
   ]
  },
  {
   "cell_type": "markdown",
   "metadata": {},
   "source": [
    "It can be shown that the spike is due to long sequences with 0 price movements, and it is resonable. We can drop them and plot the difference again."
   ]
  },
  {
   "cell_type": "code",
   "execution_count": 38,
   "metadata": {},
   "outputs": [
    {
     "data": {
      "text/plain": [
       "<matplotlib.axes._subplots.AxesSubplot at 0x2d12da97208>"
      ]
     },
     "execution_count": 38,
     "metadata": {},
     "output_type": "execute_result"
    },
    {
     "data": {
      "image/png": "[encoded data removed]",
      "text/plain": [
       "<Figure size 432x288 with 1 Axes>"
      ]
     },
     "metadata": {},
     "output_type": "display_data"
    }
   ],
   "source": [
    "ptb_diff.drop(ptb_diff[ptb_diff['0']>150].index).plot()\n"
   ]
  }
 ],
 "metadata": {
  "kernelspec": {
   "display_name": "Python 3",
   "language": "python",
   "name": "python3"
  },
  "language_info": {
   "codemirror_mode": {
    "name": "ipython",
    "version": 3
   },
   "file_extension": ".py",
   "mimetype": "text/x-python",
   "name": "python",
   "nbconvert_exporter": "python",
   "pygments_lexer": "ipython3",
   "version": "3.6.4"
  }
 },
 "nbformat": 4,
 "nbformat_minor": 2
}
