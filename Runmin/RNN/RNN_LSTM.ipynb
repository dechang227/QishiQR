{
 "cells": [
  {
   "cell_type": "code",
   "execution_count": 1,
   "metadata": {},
   "outputs": [],
   "source": [
    "# Remember to update your path\n",
    "%load_ext autoreload\n",
    "%autoreload 2\n",
    "\n",
    "import sys\n",
    "from datetime import date\n",
    "sys.path.append('/home/runmin/Documents/Qishi/QishiQR')\n",
    "\n",
    "from pathlib import Path\n",
    "\n",
    "from Backtesting.Vectorized.cross_compare import *\n",
    "from Backtesting.Vectorized.models import *\n",
    "\n",
    "from Utils.lm import gen_strategy, LM_model\n",
    "from Utils.MajorContract_split import MajorContracts\n",
    "\n",
    "import json\n",
    "\n",
    "import torch\n",
    "import torch.nn as nn\n",
    "import torch.optim as optim\n",
    "import torch.nn.functional as F\n",
    "\n",
    "from helper import data_loader, get_direction, to_categorical, to_label, predict\n",
    "\n",
    "\n",
    "# ====== Initial Configuration ========\n",
    "\n",
    "try:\n",
    "    with open('../config.json','r') as f:\n",
    "        config = json.load(f)\n",
    "except:\n",
    "    print(\"Failed to find the configuration file.\")\n",
    "        \n",
    "DATA_DIR = config['Tick path']\n",
    "OUTPUT_DIR = config['Output path']\n",
    "Strategy_DIR = config['Strategy path']\n",
    "Major_DIR = config['Major path']\n",
    "model_order = config['Max model order']\n",
    "number_of_states = config['State number']\n",
    "freq = config['Frequency']\n",
    "offset = config['Offset']\n",
    "tca = None"
   ]
  },
  {
   "cell_type": "markdown",
   "metadata": {},
   "source": [
    "# Load Data"
   ]
  },
  {
   "cell_type": "code",
   "execution_count": 12,
   "metadata": {},
   "outputs": [
    {
     "name": "stdout",
     "output_type": "stream",
     "text": [
      "bu1606 /home/runmin/Documents/Qishi/tick2016/bu\n",
      "0\n",
      "ID trade_range transition_begin transition_end\n",
      "1606 ['2015-11-1', '2016-5-1'] 2016-01-01 00:00:00 2016-03-01 00:00:00\n",
      "probability table:  20160104.0 20160229.0\n",
      "bu1609 /home/runmin/Documents/Qishi/tick2016/bu\n",
      "0\n",
      "ID trade_range transition_begin transition_end\n",
      "1609 ['2016-2-1', '2016-8-1'] 2016-03-01 00:00:00 2016-07-01 00:00:00\n",
      "probability table:  20160229.0 20160630.0\n",
      "bu1612 /home/runmin/Documents/Qishi/tick2016/bu\n",
      "0\n",
      "ID trade_range transition_begin transition_end\n",
      "1612 ['2016-6-1', '2016-11-15'] 2016-07-01 00:00:00 2016-11-01 00:00:00\n",
      "probability table:  20160701.0 20160729.0\n",
      "bu1706 /home/runmin/Documents/Qishi/tick2016/bu\n",
      "0\n",
      "ID trade_range transition_begin transition_end\n",
      "1706 ['2016-10-15', '2017-1-31'] 2016-11-01 00:00:00 2016-12-31 00:00:00\n"
     ]
    }
   ],
   "source": [
    "start = date(2016, 1, 1)\n",
    "end = date(2016, 10, 31)\n",
    "\n",
    "start_dates = [start.strftime(\"%Y%m%d\")]\n",
    "split_dates = ['2016-7-31']\n",
    "end_dates = [end.strftime(\"%Y%m%d\")]\n",
    "\n",
    "mj = MajorContracts(symbol='bu', split_time=split_dates[0], topdir='/home/runmin/Documents/Qishi/tick2016', \n",
    "                       maturity={'1606':['2015-11-1','2016-5-1'], \n",
    "                                 '1609':['2016-2-1','2016-8-1'], \n",
    "                                 '1612':['2016-6-1','2016-11-15'],\n",
    "                                 '1706':['2016-10-15','2017-1-31']}, \n",
    "                       transitions={'1606':'2016-3-1', '1609':'2016-7-1', '1612':'2016-11-1', '1706':'2017-1-1' },\n",
    "                       freq=freq, offset=offset)\n",
    "\n",
    "mj_train, mj_test, ptb = mj.create_major_overlap()"
   ]
  },
  {
   "cell_type": "markdown",
   "metadata": {},
   "source": [
    "# Generate training labels"
   ]
  },
  {
   "cell_type": "code",
   "execution_count": 13,
   "metadata": {},
   "outputs": [],
   "source": [
    "train_index, train_data = to_categorical(get_direction(mj_train), 3)\n",
    "test_index, test_data = to_categorical(get_direction(mj_test), 3)"
   ]
  },
  {
   "cell_type": "code",
   "execution_count": 21,
   "metadata": {},
   "outputs": [],
   "source": [
    "HIDDEN_SIZE=3\n",
    "NUM_LAYERS=1"
   ]
  },
  {
   "cell_type": "markdown",
   "metadata": {},
   "source": [
    "# Train with LSTM"
   ]
  },
  {
   "cell_type": "code",
   "execution_count": 22,
   "metadata": {},
   "outputs": [],
   "source": [
    "model = nn.LSTM(input_size=3, hidden_size=HIDDEN_SIZE, num_layers=NUM_LAYERS, bias=True)\n",
    "# if torch.cuda.is_available():\n",
    "#     device=torch.device('cuda')\n",
    "#     model.to(device)\n",
    "device=torch.device('cpu')\n",
    "    \n",
    "optimizer = optim.SGD(model.parameters(), lr=0.03,momentum=0.5, dampening=0.8)\n",
    "criterion = nn.CrossEntropyLoss()"
   ]
  },
  {
   "cell_type": "code",
   "execution_count": 23,
   "metadata": {},
   "outputs": [
    {
     "name": "stdout",
     "output_type": "stream",
     "text": [
      "tensor(0.7639)\n",
      "tensor(0.7154)\n",
      "tensor(0.7134)\n",
      "tensor(0.7125)\n"
     ]
    }
   ],
   "source": [
    "for epochs in range(4):\n",
    "    hidden = (torch.zeros([NUM_LAYERS,1,HIDDEN_SIZE], dtype=torch.float32).to(device), torch.randn([NUM_LAYERS,1,HIDDEN_SIZE], dtype=torch.float32).to(device))\n",
    "    loss_avg = 0\n",
    "    for train, target in data_loader(train_data, device):\n",
    "        optimizer.zero_grad()\n",
    "        output, hidden = model(train, hidden)\n",
    "        loss = criterion(output.float().view(1,-1), target)\n",
    "        loss.backward()\n",
    "        optimizer.step()\n",
    "        hidden = (hidden[0].detach(), hidden[1].detach())\n",
    "        loss_avg += loss\n",
    "    print(loss_avg/train_data.shape[0])"
   ]
  },
  {
   "cell_type": "code",
   "execution_count": 24,
   "metadata": {},
   "outputs": [
    {
     "name": "stdout",
     "output_type": "stream",
     "text": [
      "Test set prediction accurancy: 0.7345978642371742\n"
     ]
    }
   ],
   "source": [
    "hidden_init = (torch.zeros([NUM_LAYERS,1,HIDDEN_SIZE], dtype=torch.float32).to(device), torch.randn([NUM_LAYERS,1,HIDDEN_SIZE], dtype=torch.float32).to(device))\n",
    "_, predicted_label = predict(model, test_data, hidden_init)\n",
    "predicted_label = np.insert(predicted_label, 0, 0)\n",
    "mj_test['signal']=predicted_label\n",
    "print('Test set prediction accurancy:',(predicted_label==test_index).mean())\n"
   ]
  },
  {
   "cell_type": "markdown",
   "metadata": {},
   "source": [
    "# Backtest"
   ]
  },
  {
   "cell_type": "code",
   "execution_count": 29,
   "metadata": {},
   "outputs": [
    {
     "name": "stderr",
     "output_type": "stream",
     "text": [
      "/home/runmin/miniconda3/lib/python3.6/site-packages/pandas/core/indexing.py:194: SettingWithCopyWarning: \n",
      "A value is trying to be set on a copy of a slice from a DataFrame\n",
      "\n",
      "See the caveats in the documentation: http://pandas.pydata.org/pandas-docs/stable/indexing.html#indexing-view-versus-copy\n",
      "  self._setitem_with_indexer(indexer, value)\n",
      "/home/runmin/Documents/Qishi/QishiQR/Backtesting/Vectorized/backtest.py:20: SettingWithCopyWarning: \n",
      "A value is trying to be set on a copy of a slice from a DataFrame\n",
      "\n",
      "See the caveats in the documentation: http://pandas.pydata.org/pandas-docs/stable/indexing.html#indexing-view-versus-copy\n",
      "  self.result['signal_bar'][0] = 0\n"
     ]
    },
    {
     "data": {
      "text/plain": [
       "{'Total Number of Trades': 1806,\n",
       " 'Winning Rate': 0.31118493909191586,\n",
       " 'Profit Factor': 0.7697901712525066,\n",
       " 'Average Daily Return': 0.003761877440101002,\n",
       " 'Average Return per Trade': 0.0002145478274254724,\n",
       " 'Average Positive Return': 0.002048269084019769,\n",
       " 'Average Negative Return': -0.002660814804490269,\n",
       " 'Max Drawdown': -0.03034434198057223,\n",
       " 'Total Return': 1.3874733763304035,\n",
       " 'Annualized Volatility': 0.14362382891345174,\n",
       " 'Sharpe Ratio': 6.548142931017254,\n",
       " 'Largest Winning Trade': 0.015252917255268691,\n",
       " 'Largest Losing Trade': -0.018900906309200258}"
      ]
     },
     "execution_count": 29,
     "metadata": {},
     "output_type": "execute_result"
    }
   ],
   "source": [
    "from Backtesting.Vectorized.backtest import vectorizedbacktest\n",
    "tester = vectorizedbacktest(mj_test, tca='None')\n",
    "tester.runtest()\n",
    "tester.calperformance()\n",
    "tester.performance"
   ]
  },
  {
   "cell_type": "code",
   "execution_count": 30,
   "metadata": {},
   "outputs": [
    {
     "data": {
      "text/plain": [
       "<matplotlib.legend.Legend at 0x7f8c1811b630>"
      ]
     },
     "execution_count": 30,
     "metadata": {},
     "output_type": "execute_result"
    },
    {
     "data": {
      "image/png": "[encoded data removed]",
      "text/plain": [
       "<Figure size 432x288 with 1 Axes>"
      ]
     },
     "metadata": {},
     "output_type": "display_data"
    }
   ],
   "source": [
    "tester.result.equitycurve.plot()\n",
    "tester.result.benchmark.plot()\n",
    "plt.legend()"
   ]
  }
 ],
 "metadata": {
  "kernelspec": {
   "display_name": "Python 3",
   "language": "python",
   "name": "python3"
  },
  "language_info": {
   "codemirror_mode": {
    "name": "ipython",
    "version": 3
   },
   "file_extension": ".py",
   "mimetype": "text/x-python",
   "name": "python",
   "nbconvert_exporter": "python",
   "pygments_lexer": "ipython3",
   "version": "3.6.5"
  }
 },
 "nbformat": 4,
 "nbformat_minor": 2
}
