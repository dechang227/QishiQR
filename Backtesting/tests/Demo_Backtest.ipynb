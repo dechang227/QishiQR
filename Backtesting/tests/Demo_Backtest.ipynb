{
 "cells": [
  {
   "cell_type": "code",
   "execution_count": 1,
   "metadata": {},
   "outputs": [],
   "source": [
    "import warnings\n",
    "warnings.filterwarnings(action='ignore')\n",
    "\n",
    "import sys\n",
    "sys.path.append('/home/rz14/Documents/QR_Qishi/QishiQR/')\n",
    "\n",
    "from pathlib import Path\n",
    "import matplotlib.pyplot as plt\n",
    "import numpy as np\n",
    "\n",
    "from Utils.IOUtils import *\n",
    "from Backtesting.Vectorized.Strategy import MovingAverageStrategy, SLMStrategy\n",
    "from Backtesting.Vectorized.backend import vectorized_backtest\n",
    "from Backtesting.Vectorized.cross_compare import ensembler\n",
    "# ====== Initial Configuration ========\n",
    "DATA_DIR = \"./\"\n",
    "ASSET = \"Ag\"\n",
    "OUTPUT_DIR = \"./Output\"\n",
    "# =====================================\n",
    "\n",
    "ASSET_PATH = Path('./',OUTPUT_DIR, ASSET)\n",
    "ASSET_PATH.mkdir(exist_ok=True, parents=True)\n",
    "\n",
    "%load_ext autoreload\n",
    "%autoreload 2\n",
    "%matplotlib inline"
   ]
  },
  {
   "cell_type": "markdown",
   "metadata": {},
   "source": [
    "# SLM model: Single-Order"
   ]
  },
  {
   "cell_type": "markdown",
   "metadata": {},
   "source": [
    "### Import data and the probability table"
   ]
  },
  {
   "cell_type": "code",
   "execution_count": 2,
   "metadata": {},
   "outputs": [],
   "source": [
    "data = pd.read_csv(DATA_DIR + 'ag_1712_5min.csv')\n",
    "slm = pd.read_csv(DATA_DIR + 'ag_5min_freq.csv')[['prior', 'max']]\n",
    "slm = slm.rename(columns={'max': 'signal'})"
   ]
  },
  {
   "cell_type": "markdown",
   "metadata": {},
   "source": [
    "### Generate signals"
   ]
  },
  {
   "cell_type": "code",
   "execution_count": 3,
   "metadata": {},
   "outputs": [],
   "source": [
    "signals = SLMStrategy(data, slm,2).generatingsignal()\n",
    "signals['match'] = signals.apply(lambda row: 1 if row['signal'] == row['Direction'] else 0, axis=1)\n",
    "signals.to_csv(str(ASSET_PATH/'ag_5min_signal.csv'), index=False)"
   ]
  },
  {
   "cell_type": "markdown",
   "metadata": {},
   "source": [
    "### Run backtest"
   ]
  },
  {
   "cell_type": "code",
   "execution_count": 4,
   "metadata": {},
   "outputs": [
    {
     "data": {
      "text/plain": [
       "{'Annualized Volatility': 0.11280587736749559,\n",
       " 'Average Daily Return': 0.004229505571314624,\n",
       " 'Average Negative Return': -0.0011132006319265072,\n",
       " 'Average Positive Return': 0.0013145274650836198,\n",
       " 'Average Return per Trade': 0.00019606979469670446,\n",
       " 'Largest Losing Trade': -0.0057831486480913455,\n",
       " 'Largest Winning Trade': 0.017552864117196344,\n",
       " 'Max Drawdown': -0.008142270450427369,\n",
       " 'Profit Factor': 1.1808540413857798,\n",
       " 'Sharpe Ratio': 9.373415796270676,\n",
       " 'Total Number of Trades': 302,\n",
       " 'Total Return': 1.0592130779984048,\n",
       " 'Winning Rate': 0.2781456953642384}"
      ]
     },
     "execution_count": 4,
     "metadata": {},
     "output_type": "execute_result"
    }
   ],
   "source": [
    "#tca: trading cost to be applied\n",
    "test = vectorized_backtest(signals, tca = 'None')\n",
    "returns = test.runtest()\n",
    "test.cal_performance()\n",
    "test.performance"
   ]
  },
  {
   "cell_type": "markdown",
   "metadata": {},
   "source": [
    "# SLM Model: Multiple Order Comparison"
   ]
  },
  {
   "cell_type": "markdown",
   "metadata": {},
   "source": [
    "### Generate signals with different orders"
   ]
  },
  {
   "cell_type": "code",
   "execution_count": 16,
   "metadata": {},
   "outputs": [],
   "source": [
    "def compile_signal(DATA_PATH, max_order=6):\n",
    "    data = pd.read_csv(DATA_PATH + 'ag_1712_5min.csv')\n",
    "    slm = pd.read_csv(DATA_PATH + 'ag_5min_freq.csv')[['prior', 'max']]\n",
    "    slm = slm.rename(columns={'max': 'signal'})\n",
    "    signals = [SLMStrategy(data, slm, m).generatingsignal() for m in np.arange(1, max_order+1)]\n",
    "    return signals\n",
    "\n",
    "signals = compile_signal(DATA_DIR, max_order=6)"
   ]
  },
  {
   "cell_type": "markdown",
   "metadata": {},
   "source": [
    "### Preparing backtests with all signals"
   ]
  },
  {
   "cell_type": "code",
   "execution_count": 17,
   "metadata": {},
   "outputs": [
    {
     "name": "stdout",
     "output_type": "stream",
     "text": [
      "6\n"
     ]
    }
   ],
   "source": [
    "tester_ensemble = ensembler(vectorized_backtest, signals)\n",
    "tester_ensemble.build()\n",
    "tester_ensemble.run()\n",
    "\n",
    "print(len(tester_ensemble.results))"
   ]
  },
  {
   "cell_type": "markdown",
   "metadata": {},
   "source": [
    "### Calculate the performance"
   ]
  },
  {
   "cell_type": "code",
   "execution_count": 18,
   "metadata": {},
   "outputs": [],
   "source": [
    "tester_ensemble.cal_performance()"
   ]
  },
  {
   "cell_type": "markdown",
   "metadata": {},
   "source": [
    "### Plot"
   ]
  },
  {
   "cell_type": "code",
   "execution_count": 19,
   "metadata": {},
   "outputs": [
    {
     "data": {
      "text/plain": [
       "<matplotlib.axes._subplots.AxesSubplot at 0x7f43ac978710>"
      ]
     },
     "execution_count": 19,
     "metadata": {},
     "output_type": "execute_result"
    },
    {
     "data": {
      "image/png": "[encoded data removed]",
      "text/plain": [
       "<matplotlib.figure.Figure at 0x7f43ac949278>"
      ]
     },
     "metadata": {},
     "output_type": "display_data"
    }
   ],
   "source": [
    "tester_ensemble.plot()"
   ]
  },
  {
   "cell_type": "code",
   "execution_count": 20,
   "metadata": {},
   "outputs": [
    {
     "data": {
      "text/html": [
       "<div>\n",
       "<style scoped>\n",
       "    .dataframe tbody tr th:only-of-type {\n",
       "        vertical-align: middle;\n",
       "    }\n",
       "\n",
       "    .dataframe tbody tr th {\n",
       "        vertical-align: top;\n",
       "    }\n",
       "\n",
       "    .dataframe thead th {\n",
       "        text-align: right;\n",
       "    }\n",
       "</style>\n",
       "<table border=\"1\" class=\"dataframe\">\n",
       "  <thead>\n",
       "    <tr style=\"text-align: right;\">\n",
       "      <th></th>\n",
       "      <th>Annualized Volatility</th>\n",
       "      <th>Average Daily Return</th>\n",
       "      <th>Average Negative Return</th>\n",
       "      <th>Average Positive Return</th>\n",
       "      <th>Average Return per Trade</th>\n",
       "      <th>Largest Losing Trade</th>\n",
       "      <th>Largest Winning Trade</th>\n",
       "      <th>Max Drawdown</th>\n",
       "      <th>Profit Factor</th>\n",
       "      <th>Sharpe Ratio</th>\n",
       "      <th>Total Number of Trades</th>\n",
       "      <th>Total Return</th>\n",
       "      <th>Winning Rate</th>\n",
       "    </tr>\n",
       "    <tr>\n",
       "      <th>Model Order</th>\n",
       "      <th></th>\n",
       "      <th></th>\n",
       "      <th></th>\n",
       "      <th></th>\n",
       "      <th></th>\n",
       "      <th></th>\n",
       "      <th></th>\n",
       "      <th></th>\n",
       "      <th></th>\n",
       "      <th></th>\n",
       "      <th></th>\n",
       "      <th></th>\n",
       "      <th></th>\n",
       "    </tr>\n",
       "  </thead>\n",
       "  <tbody>\n",
       "    <tr>\n",
       "      <th>1</th>\n",
       "      <td>0.000000</td>\n",
       "      <td>0.000000</td>\n",
       "      <td>NaN</td>\n",
       "      <td>NaN</td>\n",
       "      <td>0.000000</td>\n",
       "      <td>0.000000</td>\n",
       "      <td>0.000000</td>\n",
       "      <td>0.000000</td>\n",
       "      <td>NaN</td>\n",
       "      <td>NaN</td>\n",
       "      <td>1</td>\n",
       "      <td>1.000000</td>\n",
       "      <td>0.000000</td>\n",
       "    </tr>\n",
       "    <tr>\n",
       "      <th>2</th>\n",
       "      <td>0.112806</td>\n",
       "      <td>0.004230</td>\n",
       "      <td>-0.001113</td>\n",
       "      <td>0.001315</td>\n",
       "      <td>0.000196</td>\n",
       "      <td>-0.005783</td>\n",
       "      <td>0.017553</td>\n",
       "      <td>-0.008142</td>\n",
       "      <td>1.180854</td>\n",
       "      <td>9.373416</td>\n",
       "      <td>302</td>\n",
       "      <td>1.059213</td>\n",
       "      <td>0.278146</td>\n",
       "    </tr>\n",
       "    <tr>\n",
       "      <th>3</th>\n",
       "      <td>0.100453</td>\n",
       "      <td>0.003609</td>\n",
       "      <td>-0.001178</td>\n",
       "      <td>0.001408</td>\n",
       "      <td>0.000263</td>\n",
       "      <td>-0.005783</td>\n",
       "      <td>0.017553</td>\n",
       "      <td>-0.008378</td>\n",
       "      <td>1.194875</td>\n",
       "      <td>8.982423</td>\n",
       "      <td>192</td>\n",
       "      <td>1.050530</td>\n",
       "      <td>0.317708</td>\n",
       "    </tr>\n",
       "    <tr>\n",
       "      <th>4</th>\n",
       "      <td>0.112160</td>\n",
       "      <td>0.006061</td>\n",
       "      <td>-0.001071</td>\n",
       "      <td>0.001347</td>\n",
       "      <td>0.000357</td>\n",
       "      <td>-0.005783</td>\n",
       "      <td>0.017553</td>\n",
       "      <td>-0.012157</td>\n",
       "      <td>1.258102</td>\n",
       "      <td>13.510609</td>\n",
       "      <td>238</td>\n",
       "      <td>1.084860</td>\n",
       "      <td>0.394958</td>\n",
       "    </tr>\n",
       "    <tr>\n",
       "      <th>5</th>\n",
       "      <td>0.124873</td>\n",
       "      <td>0.005532</td>\n",
       "      <td>-0.001033</td>\n",
       "      <td>0.001397</td>\n",
       "      <td>0.000332</td>\n",
       "      <td>-0.005783</td>\n",
       "      <td>0.017553</td>\n",
       "      <td>-0.006465</td>\n",
       "      <td>1.352311</td>\n",
       "      <td>11.075093</td>\n",
       "      <td>233</td>\n",
       "      <td>1.077447</td>\n",
       "      <td>0.364807</td>\n",
       "    </tr>\n",
       "    <tr>\n",
       "      <th>6</th>\n",
       "      <td>0.128478</td>\n",
       "      <td>0.004295</td>\n",
       "      <td>-0.001101</td>\n",
       "      <td>0.001368</td>\n",
       "      <td>0.000179</td>\n",
       "      <td>-0.004113</td>\n",
       "      <td>0.017553</td>\n",
       "      <td>-0.010102</td>\n",
       "      <td>1.243065</td>\n",
       "      <td>8.357164</td>\n",
       "      <td>336</td>\n",
       "      <td>1.060128</td>\n",
       "      <td>0.264881</td>\n",
       "    </tr>\n",
       "  </tbody>\n",
       "</table>\n",
       "</div>"
      ],
      "text/plain": [
       "             Annualized Volatility  Average Daily Return  \\\n",
       "Model Order                                                \n",
       "1                         0.000000              0.000000   \n",
       "2                         0.112806              0.004230   \n",
       "3                         0.100453              0.003609   \n",
       "4                         0.112160              0.006061   \n",
       "5                         0.124873              0.005532   \n",
       "6                         0.128478              0.004295   \n",
       "\n",
       "             Average Negative Return  Average Positive Return  \\\n",
       "Model Order                                                     \n",
       "1                                NaN                      NaN   \n",
       "2                          -0.001113                 0.001315   \n",
       "3                          -0.001178                 0.001408   \n",
       "4                          -0.001071                 0.001347   \n",
       "5                          -0.001033                 0.001397   \n",
       "6                          -0.001101                 0.001368   \n",
       "\n",
       "             Average Return per Trade  Largest Losing Trade  \\\n",
       "Model Order                                                   \n",
       "1                            0.000000              0.000000   \n",
       "2                            0.000196             -0.005783   \n",
       "3                            0.000263             -0.005783   \n",
       "4                            0.000357             -0.005783   \n",
       "5                            0.000332             -0.005783   \n",
       "6                            0.000179             -0.004113   \n",
       "\n",
       "             Largest Winning Trade  Max Drawdown  Profit Factor  Sharpe Ratio  \\\n",
       "Model Order                                                                     \n",
       "1                         0.000000      0.000000            NaN           NaN   \n",
       "2                         0.017553     -0.008142       1.180854      9.373416   \n",
       "3                         0.017553     -0.008378       1.194875      8.982423   \n",
       "4                         0.017553     -0.012157       1.258102     13.510609   \n",
       "5                         0.017553     -0.006465       1.352311     11.075093   \n",
       "6                         0.017553     -0.010102       1.243065      8.357164   \n",
       "\n",
       "             Total Number of Trades  Total Return  Winning Rate  \n",
       "Model Order                                                      \n",
       "1                                 1      1.000000      0.000000  \n",
       "2                               302      1.059213      0.278146  \n",
       "3                               192      1.050530      0.317708  \n",
       "4                               238      1.084860      0.394958  \n",
       "5                               233      1.077447      0.364807  \n",
       "6                               336      1.060128      0.264881  "
      ]
     },
     "execution_count": 20,
     "metadata": {},
     "output_type": "execute_result"
    }
   ],
   "source": [
    "tester_ensemble.performance"
   ]
  }
 ],
 "metadata": {
  "kernelspec": {
   "display_name": "Python 3",
   "language": "python",
   "name": "python3"
  },
  "language_info": {
   "codemirror_mode": {
    "name": "ipython",
    "version": 3
   },
   "file_extension": ".py",
   "mimetype": "text/x-python",
   "name": "python",
   "nbconvert_exporter": "python",
   "pygments_lexer": "ipython3",
   "version": "3.6.3"
  }
 },
 "nbformat": 4,
 "nbformat_minor": 2
}
